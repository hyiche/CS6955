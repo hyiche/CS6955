{
  "nbformat": 4,
  "nbformat_minor": 0,
  "metadata": {
    "accelerator": "GPU",
    "colab": {
      "name": "homework3_resnet.ipynb",
      "provenance": [],
      "collapsed_sections": []
    },
    "kernelspec": {
      "display_name": "Python 3",
      "name": "python3"
    },
    "language_info": {
      "codemirror_mode": {
        "name": "ipython",
        "version": 3
      },
      "file_extension": ".py",
      "mimetype": "text/x-python",
      "name": "python",
      "nbconvert_exporter": "python",
      "pygments_lexer": "ipython3",
      "version": "3.7.1"
    },
    "toc": {
      "nav_menu": {},
      "number_sections": true,
      "sideBar": true,
      "skip_h1_title": false,
      "toc_cell": false,
      "toc_position": {},
      "toc_section_display": "block",
      "toc_window_display": false
    },
    "varInspector": {
      "cols": {
        "lenName": 16,
        "lenType": 16,
        "lenVar": 40
      },
      "kernels_config": {
        "python": {
          "delete_cmd_postfix": "",
          "delete_cmd_prefix": "del ",
          "library": "var_list.py",
          "varRefreshCmd": "print(var_dic_list())"
        },
        "r": {
          "delete_cmd_postfix": ") ",
          "delete_cmd_prefix": "rm(",
          "library": "var_list.r",
          "varRefreshCmd": "cat(var_dic_list()) "
        }
      },
      "types_to_exclude": [
        "module",
        "function",
        "builtin_function_or_method",
        "instance",
        "_Feature"
      ],
      "window_display": false
    },
    "widgets": {
      "application/vnd.jupyter.widget-state+json": {
        "7b46720b45744f6fb1a3e735163a09f9": {
          "model_module": "@jupyter-widgets/controls",
          "model_name": "HBoxModel",
          "model_module_version": "1.5.0",
          "state": {
            "_view_name": "HBoxView",
            "_dom_classes": [],
            "_model_name": "HBoxModel",
            "_view_module": "@jupyter-widgets/controls",
            "_model_module_version": "1.5.0",
            "_view_count": null,
            "_view_module_version": "1.5.0",
            "box_style": "",
            "layout": "IPY_MODEL_d1486520267944b586dd6c38bb768eb4",
            "_model_module": "@jupyter-widgets/controls",
            "children": [
              "IPY_MODEL_1db233eafecf45169f8c74e93eae69ef",
              "IPY_MODEL_84e62c39d3bd4dbc9ef89973a874955b",
              "IPY_MODEL_7272737216f14d029ee0a098d70650da"
            ]
          }
        },
        "d1486520267944b586dd6c38bb768eb4": {
          "model_module": "@jupyter-widgets/base",
          "model_name": "LayoutModel",
          "model_module_version": "1.2.0",
          "state": {
            "_view_name": "LayoutView",
            "grid_template_rows": null,
            "right": null,
            "justify_content": null,
            "_view_module": "@jupyter-widgets/base",
            "overflow": null,
            "_model_module_version": "1.2.0",
            "_view_count": null,
            "flex_flow": null,
            "width": null,
            "min_width": null,
            "border": null,
            "align_items": null,
            "bottom": null,
            "_model_module": "@jupyter-widgets/base",
            "top": null,
            "grid_column": null,
            "overflow_y": null,
            "overflow_x": null,
            "grid_auto_flow": null,
            "grid_area": null,
            "grid_template_columns": null,
            "flex": null,
            "_model_name": "LayoutModel",
            "justify_items": null,
            "grid_row": null,
            "max_height": null,
            "align_content": null,
            "visibility": null,
            "align_self": null,
            "height": null,
            "min_height": null,
            "padding": null,
            "grid_auto_rows": null,
            "grid_gap": null,
            "max_width": null,
            "order": null,
            "_view_module_version": "1.2.0",
            "grid_template_areas": null,
            "object_position": null,
            "object_fit": null,
            "grid_auto_columns": null,
            "margin": null,
            "display": null,
            "left": null
          }
        },
        "1db233eafecf45169f8c74e93eae69ef": {
          "model_module": "@jupyter-widgets/controls",
          "model_name": "HTMLModel",
          "model_module_version": "1.5.0",
          "state": {
            "_view_name": "HTMLView",
            "style": "IPY_MODEL_d1979122963242f3a3aa781fda9cff5d",
            "_dom_classes": [],
            "description": "",
            "_model_name": "HTMLModel",
            "placeholder": "​",
            "_view_module": "@jupyter-widgets/controls",
            "_model_module_version": "1.5.0",
            "value": "",
            "_view_count": null,
            "_view_module_version": "1.5.0",
            "description_tooltip": null,
            "_model_module": "@jupyter-widgets/controls",
            "layout": "IPY_MODEL_3453fa281a3442f1a9d7c396c5d29cf5"
          }
        },
        "84e62c39d3bd4dbc9ef89973a874955b": {
          "model_module": "@jupyter-widgets/controls",
          "model_name": "FloatProgressModel",
          "model_module_version": "1.5.0",
          "state": {
            "_view_name": "ProgressView",
            "style": "IPY_MODEL_d219a7856d1a4cb8af3f6422ddb31255",
            "_dom_classes": [],
            "description": "",
            "_model_name": "FloatProgressModel",
            "bar_style": "success",
            "max": 170498071,
            "_view_module": "@jupyter-widgets/controls",
            "_model_module_version": "1.5.0",
            "value": 170498071,
            "_view_count": null,
            "_view_module_version": "1.5.0",
            "orientation": "horizontal",
            "min": 0,
            "description_tooltip": null,
            "_model_module": "@jupyter-widgets/controls",
            "layout": "IPY_MODEL_ff6230e6954742778f07d4ff9bed5e01"
          }
        },
        "7272737216f14d029ee0a098d70650da": {
          "model_module": "@jupyter-widgets/controls",
          "model_name": "HTMLModel",
          "model_module_version": "1.5.0",
          "state": {
            "_view_name": "HTMLView",
            "style": "IPY_MODEL_1386e3c5466345d4859fce7530449a99",
            "_dom_classes": [],
            "description": "",
            "_model_name": "HTMLModel",
            "placeholder": "​",
            "_view_module": "@jupyter-widgets/controls",
            "_model_module_version": "1.5.0",
            "value": " 170499072/? [00:06&lt;00:00, 31913103.57it/s]",
            "_view_count": null,
            "_view_module_version": "1.5.0",
            "description_tooltip": null,
            "_model_module": "@jupyter-widgets/controls",
            "layout": "IPY_MODEL_3a1be118b0ef419e877bcb3e28579b44"
          }
        },
        "d1979122963242f3a3aa781fda9cff5d": {
          "model_module": "@jupyter-widgets/controls",
          "model_name": "DescriptionStyleModel",
          "model_module_version": "1.5.0",
          "state": {
            "_view_name": "StyleView",
            "_model_name": "DescriptionStyleModel",
            "description_width": "",
            "_view_module": "@jupyter-widgets/base",
            "_model_module_version": "1.5.0",
            "_view_count": null,
            "_view_module_version": "1.2.0",
            "_model_module": "@jupyter-widgets/controls"
          }
        },
        "3453fa281a3442f1a9d7c396c5d29cf5": {
          "model_module": "@jupyter-widgets/base",
          "model_name": "LayoutModel",
          "model_module_version": "1.2.0",
          "state": {
            "_view_name": "LayoutView",
            "grid_template_rows": null,
            "right": null,
            "justify_content": null,
            "_view_module": "@jupyter-widgets/base",
            "overflow": null,
            "_model_module_version": "1.2.0",
            "_view_count": null,
            "flex_flow": null,
            "width": null,
            "min_width": null,
            "border": null,
            "align_items": null,
            "bottom": null,
            "_model_module": "@jupyter-widgets/base",
            "top": null,
            "grid_column": null,
            "overflow_y": null,
            "overflow_x": null,
            "grid_auto_flow": null,
            "grid_area": null,
            "grid_template_columns": null,
            "flex": null,
            "_model_name": "LayoutModel",
            "justify_items": null,
            "grid_row": null,
            "max_height": null,
            "align_content": null,
            "visibility": null,
            "align_self": null,
            "height": null,
            "min_height": null,
            "padding": null,
            "grid_auto_rows": null,
            "grid_gap": null,
            "max_width": null,
            "order": null,
            "_view_module_version": "1.2.0",
            "grid_template_areas": null,
            "object_position": null,
            "object_fit": null,
            "grid_auto_columns": null,
            "margin": null,
            "display": null,
            "left": null
          }
        },
        "d219a7856d1a4cb8af3f6422ddb31255": {
          "model_module": "@jupyter-widgets/controls",
          "model_name": "ProgressStyleModel",
          "model_module_version": "1.5.0",
          "state": {
            "_view_name": "StyleView",
            "_model_name": "ProgressStyleModel",
            "description_width": "",
            "_view_module": "@jupyter-widgets/base",
            "_model_module_version": "1.5.0",
            "_view_count": null,
            "_view_module_version": "1.2.0",
            "bar_color": null,
            "_model_module": "@jupyter-widgets/controls"
          }
        },
        "ff6230e6954742778f07d4ff9bed5e01": {
          "model_module": "@jupyter-widgets/base",
          "model_name": "LayoutModel",
          "model_module_version": "1.2.0",
          "state": {
            "_view_name": "LayoutView",
            "grid_template_rows": null,
            "right": null,
            "justify_content": null,
            "_view_module": "@jupyter-widgets/base",
            "overflow": null,
            "_model_module_version": "1.2.0",
            "_view_count": null,
            "flex_flow": null,
            "width": null,
            "min_width": null,
            "border": null,
            "align_items": null,
            "bottom": null,
            "_model_module": "@jupyter-widgets/base",
            "top": null,
            "grid_column": null,
            "overflow_y": null,
            "overflow_x": null,
            "grid_auto_flow": null,
            "grid_area": null,
            "grid_template_columns": null,
            "flex": null,
            "_model_name": "LayoutModel",
            "justify_items": null,
            "grid_row": null,
            "max_height": null,
            "align_content": null,
            "visibility": null,
            "align_self": null,
            "height": null,
            "min_height": null,
            "padding": null,
            "grid_auto_rows": null,
            "grid_gap": null,
            "max_width": null,
            "order": null,
            "_view_module_version": "1.2.0",
            "grid_template_areas": null,
            "object_position": null,
            "object_fit": null,
            "grid_auto_columns": null,
            "margin": null,
            "display": null,
            "left": null
          }
        },
        "1386e3c5466345d4859fce7530449a99": {
          "model_module": "@jupyter-widgets/controls",
          "model_name": "DescriptionStyleModel",
          "model_module_version": "1.5.0",
          "state": {
            "_view_name": "StyleView",
            "_model_name": "DescriptionStyleModel",
            "description_width": "",
            "_view_module": "@jupyter-widgets/base",
            "_model_module_version": "1.5.0",
            "_view_count": null,
            "_view_module_version": "1.2.0",
            "_model_module": "@jupyter-widgets/controls"
          }
        },
        "3a1be118b0ef419e877bcb3e28579b44": {
          "model_module": "@jupyter-widgets/base",
          "model_name": "LayoutModel",
          "model_module_version": "1.2.0",
          "state": {
            "_view_name": "LayoutView",
            "grid_template_rows": null,
            "right": null,
            "justify_content": null,
            "_view_module": "@jupyter-widgets/base",
            "overflow": null,
            "_model_module_version": "1.2.0",
            "_view_count": null,
            "flex_flow": null,
            "width": null,
            "min_width": null,
            "border": null,
            "align_items": null,
            "bottom": null,
            "_model_module": "@jupyter-widgets/base",
            "top": null,
            "grid_column": null,
            "overflow_y": null,
            "overflow_x": null,
            "grid_auto_flow": null,
            "grid_area": null,
            "grid_template_columns": null,
            "flex": null,
            "_model_name": "LayoutModel",
            "justify_items": null,
            "grid_row": null,
            "max_height": null,
            "align_content": null,
            "visibility": null,
            "align_self": null,
            "height": null,
            "min_height": null,
            "padding": null,
            "grid_auto_rows": null,
            "grid_gap": null,
            "max_width": null,
            "order": null,
            "_view_module_version": "1.2.0",
            "grid_template_areas": null,
            "object_position": null,
            "object_fit": null,
            "grid_auto_columns": null,
            "margin": null,
            "display": null,
            "left": null
          }
        }
      }
    }
  },
  "cells": [
    {
      "cell_type": "markdown",
      "metadata": {
        "id": "CM6FuhGPIMCO"
      },
      "source": [
        "# ResNet for CIFAR-10\n",
        "\n",
        "You are going to implement [ResNet](https://arxiv.org/abs/1512.03385), one of the state-of-the-art CNN architecture.\n",
        "Specifically, you are going to implement a variation of ResNet called [PreResNet](https://arxiv.org/abs/1603.05027), which locates activation before each convolutional layer (so called pre-activation).\n",
        "You are going to first implement a plain building block, residual block, and then bottleneck block for really deep networks.\n",
        "Finally, you will implement your own ResNet using those blocks.\n",
        "\n",
        "Throughout this part, we will follow the PyTorch default weight initialization for conciseness."
      ]
    },
    {
      "cell_type": "markdown",
      "metadata": {
        "id": "ubB_0e-UAOVK"
      },
      "source": [
        "## Install starter code\n",
        "We will continue using the utility functions that we've used for previous assignments: [`coutils` package](https://github.com/deepvision-class/starter-code). Run this cell to download and install it.\n"
      ]
    },
    {
      "cell_type": "code",
      "metadata": {
        "id": "ASkY27ZtA7Is",
        "colab": {
          "base_uri": "https://localhost:8080/"
        },
        "outputId": "3f0d1262-3570-45c4-ac8d-36b6e35b8a90"
      },
      "source": [
        "!pip install git+https://github.com/deepvision-class/starter-code"
      ],
      "execution_count": null,
      "outputs": [
        {
          "output_type": "stream",
          "name": "stdout",
          "text": [
            "Collecting git+https://github.com/deepvision-class/starter-code\n",
            "  Cloning https://github.com/deepvision-class/starter-code to /tmp/pip-req-build-zw1wmqwl\n",
            "  Running command git clone -q https://github.com/deepvision-class/starter-code /tmp/pip-req-build-zw1wmqwl\n",
            "Requirement already satisfied: pydrive in /usr/local/lib/python3.7/dist-packages (from Colab-Utils==0.1.dev0) (1.3.1)\n",
            "Requirement already satisfied: oauth2client>=4.0.0 in /usr/local/lib/python3.7/dist-packages (from pydrive->Colab-Utils==0.1.dev0) (4.1.3)\n",
            "Requirement already satisfied: google-api-python-client>=1.2 in /usr/local/lib/python3.7/dist-packages (from pydrive->Colab-Utils==0.1.dev0) (1.12.8)\n",
            "Requirement already satisfied: PyYAML>=3.0 in /usr/local/lib/python3.7/dist-packages (from pydrive->Colab-Utils==0.1.dev0) (3.13)\n",
            "Requirement already satisfied: google-api-core<2dev,>=1.21.0 in /usr/local/lib/python3.7/dist-packages (from google-api-python-client>=1.2->pydrive->Colab-Utils==0.1.dev0) (1.26.3)\n",
            "Requirement already satisfied: uritemplate<4dev,>=3.0.0 in /usr/local/lib/python3.7/dist-packages (from google-api-python-client>=1.2->pydrive->Colab-Utils==0.1.dev0) (3.0.1)\n",
            "Requirement already satisfied: httplib2<1dev,>=0.15.0 in /usr/local/lib/python3.7/dist-packages (from google-api-python-client>=1.2->pydrive->Colab-Utils==0.1.dev0) (0.17.4)\n",
            "Requirement already satisfied: six<2dev,>=1.13.0 in /usr/local/lib/python3.7/dist-packages (from google-api-python-client>=1.2->pydrive->Colab-Utils==0.1.dev0) (1.15.0)\n",
            "Requirement already satisfied: google-auth-httplib2>=0.0.3 in /usr/local/lib/python3.7/dist-packages (from google-api-python-client>=1.2->pydrive->Colab-Utils==0.1.dev0) (0.0.4)\n",
            "Requirement already satisfied: google-auth>=1.16.0 in /usr/local/lib/python3.7/dist-packages (from google-api-python-client>=1.2->pydrive->Colab-Utils==0.1.dev0) (1.35.0)\n",
            "Requirement already satisfied: packaging>=14.3 in /usr/local/lib/python3.7/dist-packages (from google-api-core<2dev,>=1.21.0->google-api-python-client>=1.2->pydrive->Colab-Utils==0.1.dev0) (21.0)\n",
            "Requirement already satisfied: protobuf>=3.12.0 in /usr/local/lib/python3.7/dist-packages (from google-api-core<2dev,>=1.21.0->google-api-python-client>=1.2->pydrive->Colab-Utils==0.1.dev0) (3.17.3)\n",
            "Requirement already satisfied: requests<3.0.0dev,>=2.18.0 in /usr/local/lib/python3.7/dist-packages (from google-api-core<2dev,>=1.21.0->google-api-python-client>=1.2->pydrive->Colab-Utils==0.1.dev0) (2.23.0)\n",
            "Requirement already satisfied: googleapis-common-protos<2.0dev,>=1.6.0 in /usr/local/lib/python3.7/dist-packages (from google-api-core<2dev,>=1.21.0->google-api-python-client>=1.2->pydrive->Colab-Utils==0.1.dev0) (1.53.0)\n",
            "Requirement already satisfied: pytz in /usr/local/lib/python3.7/dist-packages (from google-api-core<2dev,>=1.21.0->google-api-python-client>=1.2->pydrive->Colab-Utils==0.1.dev0) (2018.9)\n",
            "Requirement already satisfied: setuptools>=40.3.0 in /usr/local/lib/python3.7/dist-packages (from google-api-core<2dev,>=1.21.0->google-api-python-client>=1.2->pydrive->Colab-Utils==0.1.dev0) (57.4.0)\n",
            "Requirement already satisfied: cachetools<5.0,>=2.0.0 in /usr/local/lib/python3.7/dist-packages (from google-auth>=1.16.0->google-api-python-client>=1.2->pydrive->Colab-Utils==0.1.dev0) (4.2.4)\n",
            "Requirement already satisfied: rsa<5,>=3.1.4 in /usr/local/lib/python3.7/dist-packages (from google-auth>=1.16.0->google-api-python-client>=1.2->pydrive->Colab-Utils==0.1.dev0) (4.7.2)\n",
            "Requirement already satisfied: pyasn1-modules>=0.2.1 in /usr/local/lib/python3.7/dist-packages (from google-auth>=1.16.0->google-api-python-client>=1.2->pydrive->Colab-Utils==0.1.dev0) (0.2.8)\n",
            "Requirement already satisfied: pyasn1>=0.1.7 in /usr/local/lib/python3.7/dist-packages (from oauth2client>=4.0.0->pydrive->Colab-Utils==0.1.dev0) (0.4.8)\n",
            "Requirement already satisfied: pyparsing>=2.0.2 in /usr/local/lib/python3.7/dist-packages (from packaging>=14.3->google-api-core<2dev,>=1.21.0->google-api-python-client>=1.2->pydrive->Colab-Utils==0.1.dev0) (2.4.7)\n",
            "Requirement already satisfied: certifi>=2017.4.17 in /usr/local/lib/python3.7/dist-packages (from requests<3.0.0dev,>=2.18.0->google-api-core<2dev,>=1.21.0->google-api-python-client>=1.2->pydrive->Colab-Utils==0.1.dev0) (2021.5.30)\n",
            "Requirement already satisfied: chardet<4,>=3.0.2 in /usr/local/lib/python3.7/dist-packages (from requests<3.0.0dev,>=2.18.0->google-api-core<2dev,>=1.21.0->google-api-python-client>=1.2->pydrive->Colab-Utils==0.1.dev0) (3.0.4)\n",
            "Requirement already satisfied: urllib3!=1.25.0,!=1.25.1,<1.26,>=1.21.1 in /usr/local/lib/python3.7/dist-packages (from requests<3.0.0dev,>=2.18.0->google-api-core<2dev,>=1.21.0->google-api-python-client>=1.2->pydrive->Colab-Utils==0.1.dev0) (1.24.3)\n",
            "Requirement already satisfied: idna<3,>=2.5 in /usr/local/lib/python3.7/dist-packages (from requests<3.0.0dev,>=2.18.0->google-api-core<2dev,>=1.21.0->google-api-python-client>=1.2->pydrive->Colab-Utils==0.1.dev0) (2.10)\n",
            "Building wheels for collected packages: Colab-Utils\n",
            "  Building wheel for Colab-Utils (setup.py) ... \u001b[?25l\u001b[?25hdone\n",
            "  Created wheel for Colab-Utils: filename=Colab_Utils-0.1.dev0-py3-none-any.whl size=10307 sha256=9cfa5940e6de040f4dda13f4538d3a63e3913859ccda26afc7ff133ebc221f72\n",
            "  Stored in directory: /tmp/pip-ephem-wheel-cache-rmtth0qz/wheels/eb/3c/88/465b0d78ef4a63d1f487c4208bd4691a448f05923eda0ef5f6\n",
            "Successfully built Colab-Utils\n",
            "Installing collected packages: Colab-Utils\n",
            "Successfully installed Colab-Utils-0.1.dev0\n"
          ]
        }
      ]
    },
    {
      "cell_type": "markdown",
      "metadata": {
        "id": "MzqbYcKdz6ew"
      },
      "source": [
        "## Setup code\n",
        "Run some setup code for this notebook."
      ]
    },
    {
      "cell_type": "code",
      "metadata": {
        "id": "Q8o3FxatIL_X",
        "tags": [
          "pdf-ignore"
        ]
      },
      "source": [
        "import coutils\n",
        "from coutils import fix_random_seed\n",
        "\n",
        "import torch\n",
        "import torch.nn as nn\n",
        "import torch.nn.functional as F\n",
        "import torch.optim as optim\n",
        "from torch.utils.data import DataLoader\n",
        "from torch.utils.data import sampler\n",
        "\n",
        "import torchvision.datasets as dset\n",
        "import torchvision.transforms as T\n",
        "\n",
        "# for plotting\n",
        "import matplotlib.pyplot as plt\n",
        "%matplotlib inline\n",
        "plt.rcParams['figure.figsize'] = (10.0, 8.0) # set default size of plots\n",
        "plt.rcParams['image.interpolation'] = 'nearest'\n",
        "plt.rcParams['image.cmap'] = 'gray'"
      ],
      "execution_count": null,
      "outputs": []
    },
    {
      "cell_type": "code",
      "metadata": {
        "id": "-XB6NUX0IL_f",
        "tags": [
          "pdf-ignore"
        ],
        "colab": {
          "base_uri": "https://localhost:8080/",
          "height": 118,
          "referenced_widgets": [
            "7b46720b45744f6fb1a3e735163a09f9",
            "d1486520267944b586dd6c38bb768eb4",
            "1db233eafecf45169f8c74e93eae69ef",
            "84e62c39d3bd4dbc9ef89973a874955b",
            "7272737216f14d029ee0a098d70650da",
            "d1979122963242f3a3aa781fda9cff5d",
            "3453fa281a3442f1a9d7c396c5d29cf5",
            "d219a7856d1a4cb8af3f6422ddb31255",
            "ff6230e6954742778f07d4ff9bed5e01",
            "1386e3c5466345d4859fce7530449a99",
            "3a1be118b0ef419e877bcb3e28579b44"
          ]
        },
        "outputId": "cf622c93-d2d7-4bd6-fe37-832db6babd7c"
      },
      "source": [
        "NUM_TRAIN = 49000\n",
        "\n",
        "# The torchvision.transforms package provides tools for preprocessing data\n",
        "# and for performing data augmentation; here we set up a transform to\n",
        "# preprocess the data by subtracting the mean RGB value and dividing by the\n",
        "# standard deviation of each RGB value; we've hardcoded the mean and std.\n",
        "transform = T.Compose([\n",
        "                T.ToTensor(),\n",
        "                T.Normalize((0.4914, 0.4822, 0.4465), (0.2023, 0.1994, 0.2010))\n",
        "            ])\n",
        "\n",
        "# We set up a Dataset object for each split (train / val / test); Datasets load\n",
        "# training examples one at a time, so we wrap each Dataset in a DataLoader which\n",
        "# iterates through the Dataset and forms minibatches. We divide the CIFAR-10\n",
        "# training set into train and val sets by passing a Sampler object to the\n",
        "# DataLoader telling how it should sample from the underlying Dataset.\n",
        "cifar10_train = dset.CIFAR10('./datasets', train=True, download=True,\n",
        "                             transform=transform)\n",
        "loader_train = DataLoader(cifar10_train, batch_size=64, \n",
        "                          sampler=sampler.SubsetRandomSampler(range(NUM_TRAIN)))\n",
        "\n",
        "cifar10_val = dset.CIFAR10('./datasets', train=True, download=True,\n",
        "                           transform=transform)\n",
        "loader_val = DataLoader(cifar10_val, batch_size=64, \n",
        "                        sampler=sampler.SubsetRandomSampler(range(NUM_TRAIN, 50000)))\n",
        "\n",
        "cifar10_test = dset.CIFAR10('./datasets', train=False, download=True, \n",
        "                            transform=transform)\n",
        "loader_test = DataLoader(cifar10_test, batch_size=64)"
      ],
      "execution_count": null,
      "outputs": [
        {
          "output_type": "stream",
          "name": "stdout",
          "text": [
            "Downloading https://www.cs.toronto.edu/~kriz/cifar-10-python.tar.gz to ./datasets/cifar-10-python.tar.gz\n"
          ]
        },
        {
          "output_type": "display_data",
          "data": {
            "application/vnd.jupyter.widget-view+json": {
              "model_id": "7b46720b45744f6fb1a3e735163a09f9",
              "version_minor": 0,
              "version_major": 2
            },
            "text/plain": [
              "  0%|          | 0/170498071 [00:00<?, ?it/s]"
            ]
          },
          "metadata": {}
        },
        {
          "output_type": "stream",
          "name": "stdout",
          "text": [
            "Extracting ./datasets/cifar-10-python.tar.gz to ./datasets\n",
            "Files already downloaded and verified\n",
            "Files already downloaded and verified\n"
          ]
        }
      ]
    },
    {
      "cell_type": "markdown",
      "metadata": {
        "id": "FiookQItIL_p",
        "tags": [
          "pdf-ignore"
        ]
      },
      "source": [
        "Note that if CUDA is not enabled, `torch.cuda.is_available()` will return False and this notebook will fallback to CPU mode.\n",
        "\n",
        "The global variables `dtype` and `device` will control the data types throughout this assignment.\n",
        "\n",
        "We will be using `torch.float = torch.float32` for data and `torch.long = torch.int64` for labels.\n",
        "\n",
        "Please refer to https://pytorch.org/docs/stable/tensor_attributes.html#torch-dtype for more details about data types."
      ]
    },
    {
      "cell_type": "code",
      "metadata": {
        "id": "blz1sXlkIL_q",
        "tags": [
          "pdf-ignore-input"
        ],
        "colab": {
          "base_uri": "https://localhost:8080/"
        },
        "outputId": "656e23ca-9c67-4d75-bc23-b95c6d4bd873"
      },
      "source": [
        "dtype = torch.float\n",
        "ltype = torch.long\n",
        "\n",
        "if torch.cuda.is_available():\n",
        "  device = torch.device('cuda:0')\n",
        "else:\n",
        "  device = torch.device('cpu')\n",
        "\n",
        "# Constant to control how frequently we print train loss\n",
        "print_every = 100\n",
        "\n",
        "print('using device:', device)"
      ],
      "execution_count": null,
      "outputs": [
        {
          "output_type": "stream",
          "name": "stdout",
          "text": [
            "using device: cuda:0\n"
          ]
        }
      ]
    },
    {
      "cell_type": "markdown",
      "metadata": {
        "id": "3efFpwV_IMBZ"
      },
      "source": [
        "### Module API: Check Accuracy\n",
        "Given the validation or test set, we can check the classification accuracy of a neural network. "
      ]
    },
    {
      "cell_type": "code",
      "metadata": {
        "id": "LpgKJLVbIMBb"
      },
      "source": [
        "def check_accuracy(loader, model):\n",
        "  if loader.dataset.train:\n",
        "    print('Checking accuracy on validation set')\n",
        "  else:\n",
        "    print('Checking accuracy on test set')   \n",
        "  num_correct = 0\n",
        "  num_samples = 0\n",
        "  model.eval()  # set model to evaluation mode\n",
        "  with torch.no_grad():\n",
        "    for x, y in loader:\n",
        "      x = x.to(device=device, dtype=dtype)  # move to device, e.g. GPU\n",
        "      y = y.to(device=device, dtype=ltype)\n",
        "      scores = model(x)\n",
        "      _, preds = scores.max(1)\n",
        "      num_correct += (preds == y).sum()\n",
        "      num_samples += preds.size(0)\n",
        "    acc = float(num_correct) / num_samples\n",
        "    print('Got %d / %d correct (%.2f)' % (num_correct, num_samples, 100 * acc))\n",
        "  return acc"
      ],
      "execution_count": null,
      "outputs": []
    },
    {
      "cell_type": "markdown",
      "metadata": {
        "id": "-tmOMi8SIMBj"
      },
      "source": [
        "### Module API: Training Loop\n",
        "We also use a slightly different training loop. Rather than updating the values of the weights ourselves, we use an Optimizer object from the `torch.optim` package, which abstract the notion of an optimization algorithm and provides implementations of most of the algorithms commonly used to optimize neural networks."
      ]
    },
    {
      "cell_type": "code",
      "metadata": {
        "id": "HLJjvtu1IMBm"
      },
      "source": [
        "def adjust_learning_rate(optimizer, lrd, epoch, schedule):\n",
        "  \"\"\"\n",
        "  Multiply lrd to the learning rate if epoch is in schedule\n",
        "  \n",
        "  Inputs:\n",
        "  - optimizer: An Optimizer object we will use to train the model\n",
        "  - lrd: learning rate decay; a factor multiplied at scheduled epochs\n",
        "  - epochs: the current epoch number\n",
        "  - schedule: the list of epochs that requires learning rate update\n",
        "  \n",
        "  Returns: Nothing, but learning rate might be updated\n",
        "  \"\"\"\n",
        "  if epoch in schedule:\n",
        "    for param_group in optimizer.param_groups:\n",
        "      print('lr decay from {} to {}'.format(param_group['lr'], param_group['lr'] * lrd))\n",
        "      param_group['lr'] *= lrd\n",
        "\n",
        "def train(model, optimizer, epochs=1, learning_rate_decay=.1, schedule=[], verbose=True):\n",
        "  \"\"\"\n",
        "  Train a model on CIFAR-10 using the PyTorch Module API.\n",
        "  \n",
        "  Inputs:\n",
        "  - model: A PyTorch Module giving the model to train.\n",
        "  - optimizer: An Optimizer object we will use to train the model\n",
        "  - epochs: (Optional) A Python integer giving the number of epochs to train for\n",
        "  \n",
        "  Returns: Nothing, but prints model accuracies during training.\n",
        "  \"\"\"\n",
        "  model = model.to(device=device)  # move the model parameters to CPU/GPU\n",
        "  num_iters = epochs * len(loader_train)\n",
        "  if verbose:\n",
        "    num_prints = num_iters // print_every + 1\n",
        "  else:\n",
        "    num_prints = epochs\n",
        "  acc_history = torch.zeros(num_prints, dtype=torch.float)\n",
        "  iter_history = torch.zeros(num_prints, dtype=torch.long)\n",
        "  for e in range(epochs):\n",
        "    \n",
        "    adjust_learning_rate(optimizer, learning_rate_decay, e, schedule)\n",
        "    \n",
        "    for t, (x, y) in enumerate(loader_train):\n",
        "      model.train()  # put model to training mode\n",
        "      x = x.to(device=device, dtype=dtype)  # move to device, e.g. GPU\n",
        "      y = y.to(device=device, dtype=ltype)\n",
        "\n",
        "      scores = model(x)\n",
        "      loss = F.cross_entropy(scores, y)\n",
        "\n",
        "      # Zero out all of the gradients for the variables which the optimizer\n",
        "      # will update.\n",
        "      optimizer.zero_grad()\n",
        "\n",
        "      # This is the backwards pass: compute the gradient of the loss with\n",
        "      # respect to each  parameter of the model.\n",
        "      loss.backward()\n",
        "\n",
        "      # Actually update the parameters of the model using the gradients\n",
        "      # computed by the backwards pass.\n",
        "      optimizer.step()\n",
        "\n",
        "      tt = t + e * len(loader_train)\n",
        "\n",
        "      if verbose and (tt % print_every == 0 or (e == epochs-1 and t == len(loader_train)-1)):\n",
        "        print('Epoch %d, Iteration %d, loss = %.4f' % (e, tt, loss.item()))\n",
        "        acc = check_accuracy(loader_val, model)\n",
        "        acc_history[tt // print_every] = acc\n",
        "        iter_history[tt // print_every] = tt\n",
        "        print()\n",
        "      elif not verbose and (t == len(loader_train)-1):\n",
        "        print('Epoch %d, Iteration %d, loss = %.4f' % (e, tt, loss.item()))\n",
        "        acc = check_accuracy(loader_val, model)\n",
        "        acc_history[e] = acc\n",
        "        iter_history[e] = tt\n",
        "        print()\n",
        "  return acc_history, iter_history"
      ],
      "execution_count": null,
      "outputs": []
    },
    {
      "cell_type": "markdown",
      "metadata": {
        "id": "f8pgYlKN9NLH"
      },
      "source": [
        "## Plain block\n",
        "\n",
        "First, let's implement a plain block without residual connection.\n",
        "PreResNet has a different order of layers from the previously implemented ones;\n",
        "BatchNorm and ReLU precedes Conv.\n",
        "The name of PreResNet comes form this pre-activation architecture.\n",
        "Here, for downsampling, we don't introduce MaxPool layers explicitly, but use stride 2 in the first Conv layer in the block.\n",
        "\n",
        "Concretely, a plain block accepts a feature map of shape $C_{in} \\times H_{in} \\times W_{in}$ and produces a feature map of shape $C_{out} \\times H_{out} \\times W_{out}$. If the block performs downsampling, then $W_{out}=W_{in}/2$ and $H_{out}=H_{in}/2$; otherwise $H_{out}=H_{in}$ and $W_{out}=W_{in}$. The plain block consists of the following six layers in order:\n",
        "\n",
        "1. Spatial Batch normalization\n",
        "2. ReLU\n",
        "3. Convolutional layer with `Cout` 3x3 filters, zero-padding of 1, and stride 2 if downsampling; otherwise stride 1\n",
        "4. Spatial Batch normalization\n",
        "5. ReLU\n",
        "6. Convolutional layer with `Cout` 3x3 filters, with zero-padding of 1\n"
      ]
    },
    {
      "cell_type": "code",
      "metadata": {
        "id": "-c4QBBj5-A3R"
      },
      "source": [
        "class PlainBlock(nn.Module):\n",
        "  def __init__(self, Cin, Cout, downsample=False):\n",
        "    super().__init__()\n",
        "\n",
        "    self.net = None\n",
        "    ############################################################################\n",
        "    # TODO: Implement plain block.                                             #\n",
        "    # Hint: Wrap your layers by nn.Sequential() to output a single module.     #\n",
        "    #       You don't have use OrderedDict.                                    #\n",
        "    # Inputs:                                                                  #\n",
        "    # - Cin: number of input channels                                          #\n",
        "    # - Cout: number of output channels                                        #\n",
        "    # - downsample: add downsampling (a conv with stride=2) if True            #\n",
        "    # Store the result in self.net.                                            #\n",
        "    ############################################################################\n",
        "    # Replace \"pass\" statement with your code\n",
        "    if downsample:\n",
        "        self.net = nn.Sequential(\n",
        "            nn.BatchNorm2d(Cin),\n",
        "            nn.ReLU(),\n",
        "            nn.Conv2d(Cin, Cout, (3, 3), stride=2, padding=1),\n",
        "            nn.BatchNorm2d(Cout),\n",
        "            nn.ReLU(),\n",
        "            nn.Conv2d(Cout, Cout, (3, 3), padding=1)\n",
        "        )\n",
        "    else:\n",
        "        self.net = nn.Sequential(\n",
        "            nn.BatchNorm2d(Cin),\n",
        "            nn.ReLU(),\n",
        "            nn.Conv2d(Cin, Cout, (3, 3), stride=1, padding=1),\n",
        "            nn.BatchNorm2d(Cout),\n",
        "            nn.ReLU(),\n",
        "            nn.Conv2d(Cout, Cout, (3, 3), padding=1)\n",
        "        )\n",
        "    ############################################################################\n",
        "    #                                 END OF YOUR CODE                         #\n",
        "    ############################################################################\n",
        "\n",
        "  def forward(self, x):\n",
        "    return self.net(x)"
      ],
      "execution_count": null,
      "outputs": []
    },
    {
      "cell_type": "code",
      "metadata": {
        "id": "SofEF-vyAekS",
        "colab": {
          "base_uri": "https://localhost:8080/"
        },
        "outputId": "379ab855-d540-45bb-c290-751df229bc30"
      },
      "source": [
        "data = torch.zeros(2, 3, 5, 6)\n",
        "model = PlainBlock(3, 10)\n",
        "if list(model(data).shape) == [2, 10, 5, 6]:\n",
        "  print('The output of PlainBlock without downsampling has a *correct* dimension!')\n",
        "else:\n",
        "  print('The output of PlainBlock without downsampling has an *incorrect* dimension! expected:', [2, 10, 5, 6], 'got:', list(model(data).shape))\n",
        "\n",
        "data = torch.zeros(2, 3, 5, 6)\n",
        "model = PlainBlock(3, 10, downsample=True)\n",
        "if list(model(data).shape) == [2, 10, 3, 3]:\n",
        "  print('The output of PlainBlock with downsampling has a *correct* dimension!')\n",
        "else:\n",
        "  print('The output of PlainBlock with downsampling has an *incorrect* dimension! expected:', [2, 10, 3, 3], 'got:', list(model(data).shape))"
      ],
      "execution_count": null,
      "outputs": [
        {
          "output_type": "stream",
          "name": "stdout",
          "text": [
            "The output of PlainBlock without downsampling has a *correct* dimension!\n",
            "The output of PlainBlock with downsampling has a *correct* dimension!\n"
          ]
        }
      ]
    },
    {
      "cell_type": "markdown",
      "metadata": {
        "id": "ASV5NdNADo3F"
      },
      "source": [
        "## Residual block\n",
        "\n",
        "Next, let's implement a residual block.\n",
        "A residual block adds a residual connection to a plain block. Let $\\mathcal{F}$ be a plain block; then the residual version  $\\mathcal{R}$ of the plain block $\\mathcal{F}$ computes:\n",
        "\n",
        "$\\mathcal{R}(x) = \\mathcal{F}(x) + x$\n",
        "\n",
        "However, this implementation will only work if the output from the plain block $\\mathcal{F}(x)$ has the same shape as the input $x$. Based on the plain block that we implemented above, there are two cases where the output of the plain block can have a different shape than the input:\n",
        "\n",
        "1. The number of output channels $C_{out}$ is different from the number of input channels $C_{in}$\n",
        "2. The plain block $\\mathcal{F}$ performs spatial downsampling\n",
        "\n",
        "To deal with these cases, we need generalize our definition of the residual block and add a *shortcut connection* $\\mathcal{G}$:\n",
        "\n",
        "$\\mathcal{R}(x) = \\mathcal{F}(x) + \\mathcal{G}(x)$\n",
        "\n",
        "There are three cases for the shortcut connection $\\mathcal{G}$:\n",
        "\n",
        "1. If $C_{in}=C_{out}$ and $\\mathcal{F}$ does not perform downsampling, then $\\mathcal{F}(x)$ will have the same shape as $x$, so $\\mathcal{G}$ is the identity function: $\\mathcal{G}(x) = x$\n",
        "2. If $C_{in} \\neq C_{out}$ and $\\mathcal{F}$ does not downsample, then $\\mathcal{G}$ is a 1x1 convolution with $C_{out}$ filters and stride 1.\n",
        "3. If $\\mathcal{F}$ downsamples, then $\\mathcal{G}$ is a 1x1 convolution with $C_{out}$ filters and stride 2.\n",
        "\n",
        "In the code below, implement a residual block using the plain block we just defined:"
      ]
    },
    {
      "cell_type": "code",
      "metadata": {
        "id": "jzqJCUx6Do3I"
      },
      "source": [
        "class ResidualBlock(nn.Module):\n",
        "  def __init__(self, Cin, Cout, downsample=False):\n",
        "    super().__init__()\n",
        "\n",
        "    self.block = None # F\n",
        "    self.shortcut = None # G\n",
        "    ############################################################################\n",
        "    # TODO: Implement residual block using plain block. Hint: nn.Identity()    #\n",
        "    # Inputs:                                                                  #\n",
        "    # - Cin: number of input channels                                          #\n",
        "    # - Cout: number of output channels                                        #\n",
        "    # - downsample: add downsampling (a conv with stride=2) if True            #\n",
        "    # Store the main block in self.block and the shortcut in self.shortcut.    #\n",
        "    ############################################################################\n",
        "    # Replace \"pass\" statement with your code\n",
        "    if Cin == Cout and not downsample:\n",
        "        self.block = nn.Sequential(\n",
        "            nn.BatchNorm2d(Cin),\n",
        "            nn.ReLU(),\n",
        "            nn.Conv2d(Cin, Cout, (3, 3), padding=1),\n",
        "            nn.BatchNorm2d(Cout),\n",
        "            nn.ReLU(),\n",
        "            nn.Conv2d(Cout, Cout, (3, 3), padding=1)\n",
        "        )\n",
        "        self.shortcut = nn.Identity()\n",
        "    elif Cin != Cout and not downsample:\n",
        "        self.block = nn.Sequential(\n",
        "            nn.BatchNorm2d(Cin),\n",
        "            nn.ReLU(),\n",
        "            nn.Conv2d(Cin, Cout, (3, 3), padding=1),\n",
        "            nn.BatchNorm2d(Cout),\n",
        "            nn.ReLU(),\n",
        "            nn.Conv2d(Cout, Cout, (3, 3), padding=1)\n",
        "        )\n",
        "        self.shortcut = nn.Conv2d(Cin, Cout, (1, 1), stride=1, padding=0, bias=False)\n",
        "    elif downsample:\n",
        "        self.block = nn.Sequential(\n",
        "            nn.BatchNorm2d(Cin),\n",
        "            nn.ReLU(),\n",
        "            nn.Conv2d(Cin, Cout, (3, 3), stride=2, padding=1),\n",
        "            nn.BatchNorm2d(Cout),\n",
        "            nn.ReLU(),\n",
        "            nn.Conv2d(Cout, Cout, (3, 3), padding=1)\n",
        "        )\n",
        "        self.shortcut = nn.Conv2d(Cin, Cout, (1, 1), stride=2, padding=0, bias=False)\n",
        "    ############################################################################\n",
        "    #                                 END OF YOUR CODE                         #\n",
        "    ############################################################################\n",
        "  \n",
        "  def forward(self, x):\n",
        "    return self.block(x) + self.shortcut(x)"
      ],
      "execution_count": null,
      "outputs": []
    },
    {
      "cell_type": "code",
      "metadata": {
        "id": "TMJ3-eI3Do3M",
        "colab": {
          "base_uri": "https://localhost:8080/"
        },
        "outputId": "6a0fe475-fa06-4e5c-cbf3-6d29d4d8c090"
      },
      "source": [
        "data = torch.zeros(2, 3, 5, 6)\n",
        "model = ResidualBlock(3, 10)\n",
        "if list(model(data).shape) == [2, 10, 5, 6]:\n",
        "  print('The output of ResidualBlock without downsampling has a *correct* dimension!')\n",
        "else:\n",
        "  print('The output of ResidualBlock without downsampling has an *incorrect* dimension! expected:', [2, 10, 5, 6], 'got:', list(model(data).shape))\n",
        "\n",
        "data = torch.zeros(2, 3, 5, 6)\n",
        "model = ResidualBlock(3, 10, downsample=True)\n",
        "if list(model(data).shape) == [2, 10, 3, 3]:\n",
        "  print('The output of ResidualBlock with downsampling has a *correct* dimension!')\n",
        "else:\n",
        "  print('The output of ResidualBlock with downsampling has an *incorrect* dimension! expected:', [2, 10, 3, 3], 'got:', list(model(data).shape))"
      ],
      "execution_count": null,
      "outputs": [
        {
          "output_type": "stream",
          "name": "stdout",
          "text": [
            "The output of ResidualBlock without downsampling has a *correct* dimension!\n",
            "The output of ResidualBlock with downsampling has a *correct* dimension!\n"
          ]
        }
      ]
    },
    {
      "cell_type": "markdown",
      "metadata": {
        "id": "wrEzQeTBvNso"
      },
      "source": [
        "## Residual stage\n",
        "\n",
        "So far, you implemented micro layers, which consists of several convolutional laters.\n",
        "To efficiently build a deep neural network, we define a macro layer by repeating the micro layers.\n",
        "\n",
        "For your convenience, we provide the implementation below."
      ]
    },
    {
      "cell_type": "code",
      "metadata": {
        "id": "NhgWE6qTvVW6"
      },
      "source": [
        "class ResNetStage(nn.Module):\n",
        "  def __init__(self, Cin, Cout, num_blocks, downsample=True,\n",
        "               block=ResidualBlock):\n",
        "    super().__init__()\n",
        "    blocks = [block(Cin, Cout, downsample)]  # [1]\n",
        "    for _ in range(num_blocks - 1):\n",
        "      blocks.append(block(Cout, Cout))  # [1, 2, 3, 4, 5]\n",
        "    self.net = nn.Sequential(*blocks)\n",
        "  \n",
        "  def forward(self, x):\n",
        "    return self.net(x)"
      ],
      "execution_count": null,
      "outputs": []
    },
    {
      "cell_type": "code",
      "metadata": {
        "id": "I21i5J3AnbhM",
        "colab": {
          "base_uri": "https://localhost:8080/"
        },
        "outputId": "c9bcf710-837a-40fe-91f9-bc55c1eec87e"
      },
      "source": [
        "print('Plain block stage:')\n",
        "print(ResNetStage(3, 4, 2, block=PlainBlock))\n",
        "print('Residual block stage:')\n",
        "print(ResNetStage(3, 4, 2, block=ResidualBlock))"
      ],
      "execution_count": null,
      "outputs": [
        {
          "output_type": "stream",
          "name": "stdout",
          "text": [
            "Plain block stage:\n",
            "ResNetStage(\n",
            "  (net): Sequential(\n",
            "    (0): PlainBlock(\n",
            "      (net): Sequential(\n",
            "        (0): BatchNorm2d(3, eps=1e-05, momentum=0.1, affine=True, track_running_stats=True)\n",
            "        (1): ReLU()\n",
            "        (2): Conv2d(3, 4, kernel_size=(3, 3), stride=(2, 2), padding=(1, 1))\n",
            "        (3): BatchNorm2d(4, eps=1e-05, momentum=0.1, affine=True, track_running_stats=True)\n",
            "        (4): ReLU()\n",
            "        (5): Conv2d(4, 4, kernel_size=(3, 3), stride=(1, 1), padding=(1, 1))\n",
            "      )\n",
            "    )\n",
            "    (1): PlainBlock(\n",
            "      (net): Sequential(\n",
            "        (0): BatchNorm2d(4, eps=1e-05, momentum=0.1, affine=True, track_running_stats=True)\n",
            "        (1): ReLU()\n",
            "        (2): Conv2d(4, 4, kernel_size=(3, 3), stride=(1, 1), padding=(1, 1))\n",
            "        (3): BatchNorm2d(4, eps=1e-05, momentum=0.1, affine=True, track_running_stats=True)\n",
            "        (4): ReLU()\n",
            "        (5): Conv2d(4, 4, kernel_size=(3, 3), stride=(1, 1), padding=(1, 1))\n",
            "      )\n",
            "    )\n",
            "  )\n",
            ")\n",
            "Residual block stage:\n",
            "ResNetStage(\n",
            "  (net): Sequential(\n",
            "    (0): ResidualBlock(\n",
            "      (block): Sequential(\n",
            "        (0): BatchNorm2d(3, eps=1e-05, momentum=0.1, affine=True, track_running_stats=True)\n",
            "        (1): ReLU()\n",
            "        (2): Conv2d(3, 4, kernel_size=(3, 3), stride=(2, 2), padding=(1, 1))\n",
            "        (3): BatchNorm2d(4, eps=1e-05, momentum=0.1, affine=True, track_running_stats=True)\n",
            "        (4): ReLU()\n",
            "        (5): Conv2d(4, 4, kernel_size=(3, 3), stride=(1, 1), padding=(1, 1))\n",
            "      )\n",
            "      (shortcut): Conv2d(3, 4, kernel_size=(1, 1), stride=(2, 2), bias=False)\n",
            "    )\n",
            "    (1): ResidualBlock(\n",
            "      (block): Sequential(\n",
            "        (0): BatchNorm2d(4, eps=1e-05, momentum=0.1, affine=True, track_running_stats=True)\n",
            "        (1): ReLU()\n",
            "        (2): Conv2d(4, 4, kernel_size=(3, 3), stride=(1, 1), padding=(1, 1))\n",
            "        (3): BatchNorm2d(4, eps=1e-05, momentum=0.1, affine=True, track_running_stats=True)\n",
            "        (4): ReLU()\n",
            "        (5): Conv2d(4, 4, kernel_size=(3, 3), stride=(1, 1), padding=(1, 1))\n",
            "      )\n",
            "      (shortcut): Identity()\n",
            "    )\n",
            "  )\n",
            ")\n"
          ]
        }
      ]
    },
    {
      "cell_type": "markdown",
      "metadata": {
        "id": "7l3-PNR9mlIb"
      },
      "source": [
        "## Residual stem\n",
        "\n",
        "A \"stem\" layer is required at the beginning of the network, which increases the number of channels while keeping the other dimensions.\n",
        "\n",
        "For your convenience, we provide the implementation below."
      ]
    },
    {
      "cell_type": "code",
      "metadata": {
        "id": "eUvbubymmlIc"
      },
      "source": [
        "class ResNetStem(nn.Module):\n",
        "  def __init__(self, Cin=3, Cout=8):\n",
        "    super().__init__()\n",
        "    layers = [\n",
        "        nn.Conv2d(Cin, Cout, kernel_size=3, padding=1, stride=1),\n",
        "        nn.ReLU(),\n",
        "    ]\n",
        "    self.net = nn.Sequential(*layers)\n",
        "    \n",
        "  def forward(self, x):\n",
        "    return self.net(x)"
      ],
      "execution_count": null,
      "outputs": []
    },
    {
      "cell_type": "code",
      "metadata": {
        "id": "UGzh0oVxm2Aw",
        "colab": {
          "base_uri": "https://localhost:8080/"
        },
        "outputId": "7b6a769c-56ca-4f83-c231-0a345b7adde9"
      },
      "source": [
        "data = torch.zeros(2, 3, 5, 6)\n",
        "model = ResNetStem(3, 10)\n",
        "if list(model(data).shape) == [2, 10, 5, 6]:\n",
        "  print('The output of ResidualBlock without downsampling has a *correct* dimension!')\n",
        "else:\n",
        "  print('The output of ResidualBlock without downsampling has an *incorrect* dimension! expected:', [2, 10, 5, 6], 'got:', list(model(data).shape))"
      ],
      "execution_count": null,
      "outputs": [
        {
          "output_type": "stream",
          "name": "stdout",
          "text": [
            "The output of ResidualBlock without downsampling has a *correct* dimension!\n"
          ]
        }
      ]
    },
    {
      "cell_type": "markdown",
      "metadata": {
        "id": "QGzn4Gp_sYBp"
      },
      "source": [
        "## ResNet class\n",
        "\n",
        "Now, it is time to design the ResNet class using the blocks you implemented above!\n",
        "\n",
        "For general applicability, the class will get a dictionary of the architecture specification as an input, and parse it to build a CNN.\n",
        "\n",
        "Here we provide a couple of examples of specification;\n",
        "`networks` is a collection of pre-defined network specifications, where each can be called by `get_resnet(key)`, where key is the name of the network, e.g., `get_resnet('resnet32')` will return a ResNet with 32 layers.\n",
        "\n",
        "Each specification consists of multiple tuples which correspond to a macro block (`ResNetStage`), and the values in each tuple implies `(num_in_channels, num_out_channels, num_blocks, do_downsample)`.\n",
        "\n",
        "To avoid dependency on the size of the input, ResNet has an average pooling at the end of the convolutional part, such that the size of the input tensor to the linear layer is always `(batch_size, stage_args[-1][1])`.\n",
        "You may want to add an average pooling layer (`nn.AvgPool2d`), but it requires to know the size of the input.\n",
        "Can you relax this requirement?\n",
        "\n",
        "**Hint**: You can perform average pooling in `forward`."
      ]
    },
    {
      "cell_type": "code",
      "metadata": {
        "id": "1iOOBoSgs-0X"
      },
      "source": [
        "# example of specifications\n",
        "networks = {\n",
        "  'plain32': {\n",
        "    'block': PlainBlock,\n",
        "    'stage_args': [\n",
        "      (8, 8, 5, False),\n",
        "      (8, 16, 5, True),\n",
        "      (16, 32, 5, True),\n",
        "    ]\n",
        "  },\n",
        "  'resnet32': {\n",
        "    'block': ResidualBlock,\n",
        "    'stage_args': [\n",
        "      (8, 8, 5, False),\n",
        "      (8, 16, 5, True),\n",
        "      (16, 32, 5, True),  # [(), (), ()]\n",
        "    ]\n",
        "  },\n",
        "}"
      ],
      "execution_count": null,
      "outputs": []
    },
    {
      "cell_type": "code",
      "metadata": {
        "id": "nVSeEzB7scmW"
      },
      "source": [
        "class ResNet(nn.Module):\n",
        "  def __init__(self, stage_args, Cin=3, block=ResidualBlock, num_classes=10):\n",
        "    super().__init__()\n",
        "\n",
        "    self.cnn = None\n",
        "    ############################################################################\n",
        "    # TODO: Implement the convolutional part of ResNet using ResNetStem,       #\n",
        "    #       ResNetStage, and wrap the modules by nn.Sequential.                #\n",
        "    # Store the model in self.cnn.                                             #\n",
        "    ############################################################################\n",
        "    # Replace \"pass\" statement with your code\n",
        "    # print(stage_args)\n",
        "    layers = [ResNetStem(Cin, stage_args[0][0])]\n",
        "    for stage_arg in stage_args:\n",
        "        # print(stage_arg)\n",
        "        layers.append(ResNetStage(*stage_arg))\n",
        "    self.cnn = nn.Sequential(*layers)\n",
        "    # print(self.cnn)\n",
        "    self.flatten = nn.Flatten()\n",
        "    ############################################################################\n",
        "    #                                 END OF YOUR CODE                         #\n",
        "    ############################################################################\n",
        "    self.fc = nn.Linear(stage_args[-1][1], num_classes)\n",
        "  \n",
        "  def forward(self, x):\n",
        "    scores = None\n",
        "    ############################################################################\n",
        "    # TODO: Implement the forward function of ResNet.                          #\n",
        "    # Store the output in `scores`.                                            #\n",
        "    ############################################################################\n",
        "    # Replace \"pass\" statement with your code\n",
        "    x = self.cnn(x)\n",
        "    # print('after cnn', x.size())\n",
        "    x = F.avg_pool2d(x, 8)\n",
        "    # print('after pool', x.size())\n",
        "    # print(sdfghjkl)\n",
        "    x = self.flatten(x)\n",
        "    scores = self.fc(x)\n",
        "    ############################################################################\n",
        "    #                                 END OF YOUR CODE                         #\n",
        "    ############################################################################\n",
        "    return scores\n",
        "\n",
        "def get_resnet(name):\n",
        "  return ResNet(**networks[name])"
      ],
      "execution_count": null,
      "outputs": []
    },
    {
      "cell_type": "markdown",
      "metadata": {
        "id": "uqhp641H0P9Z"
      },
      "source": [
        "## Train your model!\n",
        "\n",
        "Now let's train a few epochs of plain and residual networks with 32 layers on CIFAR.\n",
        "You will see that deep non-residual networks don't converge well.\n",
        "\n",
        "**Caution: This takes a long time!**\n",
        "\n",
        "**Disclaimer: The performance of PreResNet-32 you will see here (~ 80%) would be lower than the best performance this model can achieve, because the convergence requires much more training.**"
      ]
    },
    {
      "cell_type": "code",
      "metadata": {
        "id": "hRyYVBn60A58",
        "colab": {
          "base_uri": "https://localhost:8080/"
        },
        "outputId": "3bf55990-c4f3-445c-bd3c-ddc2768c4d86"
      },
      "source": [
        "# def init_module(model):\n",
        "#   for m in model.modules():\n",
        "#     if isinstance(m, nn.Conv2d) or isinstance(m, nn.Linear):\n",
        "#       nn.init.kaiming_normal_(m.weight.data)\n",
        "#       if m.bias is not None: nn.init.zeros_(m.bias.data)\n",
        "#     elif isinstance(m, nn.BatchNorm2d):\n",
        "#       nn.init.ones_(m.weight.data)\n",
        "#       if m.bias is not None: nn.init.zeros_(m.bias.data)\n",
        "\n",
        "names = ['plain32', 'resnet32']\n",
        "acc_history_dict = {}\n",
        "iter_history_dict = {}\n",
        "for name in names:\n",
        "  fix_random_seed(0)\n",
        "  print(name, '\\n')\n",
        "  model = get_resnet(name)\n",
        "#   init_module(model)\n",
        "  \n",
        "  optimizer = optim.SGD(model.parameters(), lr=1e-2, momentum=.9, weight_decay=1e-4)\n",
        "\n",
        "  acc_history, iter_history = train(model, optimizer, epochs=10, schedule=[6, 8], verbose=False)\n",
        "  acc_history_dict[name] = acc_history\n",
        "  iter_history_dict[name] = iter_history"
      ],
      "execution_count": null,
      "outputs": [
        {
          "output_type": "stream",
          "name": "stdout",
          "text": [
            "plain32 \n",
            "\n",
            "Epoch 0, Iteration 765, loss = 1.1696\n",
            "Checking accuracy on validation set\n",
            "Got 576 / 1000 correct (57.60)\n",
            "\n",
            "Epoch 1, Iteration 1531, loss = 1.0713\n",
            "Checking accuracy on validation set\n",
            "Got 634 / 1000 correct (63.40)\n",
            "\n",
            "Epoch 2, Iteration 2297, loss = 0.7800\n",
            "Checking accuracy on validation set\n",
            "Got 663 / 1000 correct (66.30)\n",
            "\n",
            "Epoch 3, Iteration 3063, loss = 0.5769\n",
            "Checking accuracy on validation set\n",
            "Got 686 / 1000 correct (68.60)\n",
            "\n",
            "Epoch 4, Iteration 3829, loss = 0.5640\n",
            "Checking accuracy on validation set\n",
            "Got 710 / 1000 correct (71.00)\n",
            "\n",
            "Epoch 5, Iteration 4595, loss = 0.8994\n",
            "Checking accuracy on validation set\n",
            "Got 757 / 1000 correct (75.70)\n",
            "\n",
            "lr decay from 0.01 to 0.001\n",
            "Epoch 6, Iteration 5361, loss = 0.3400\n",
            "Checking accuracy on validation set\n",
            "Got 820 / 1000 correct (82.00)\n",
            "\n",
            "Epoch 7, Iteration 6127, loss = 0.6744\n",
            "Checking accuracy on validation set\n",
            "Got 813 / 1000 correct (81.30)\n",
            "\n",
            "lr decay from 0.001 to 0.0001\n",
            "Epoch 8, Iteration 6893, loss = 0.3358\n",
            "Checking accuracy on validation set\n",
            "Got 822 / 1000 correct (82.20)\n",
            "\n",
            "Epoch 9, Iteration 7659, loss = 0.4030\n",
            "Checking accuracy on validation set\n",
            "Got 815 / 1000 correct (81.50)\n",
            "\n",
            "resnet32 \n",
            "\n",
            "Epoch 0, Iteration 765, loss = 1.0585\n",
            "Checking accuracy on validation set\n",
            "Got 535 / 1000 correct (53.50)\n",
            "\n",
            "Epoch 1, Iteration 1531, loss = 1.1177\n",
            "Checking accuracy on validation set\n",
            "Got 634 / 1000 correct (63.40)\n",
            "\n",
            "Epoch 2, Iteration 2297, loss = 0.7557\n",
            "Checking accuracy on validation set\n",
            "Got 676 / 1000 correct (67.60)\n",
            "\n",
            "Epoch 3, Iteration 3063, loss = 0.7381\n",
            "Checking accuracy on validation set\n",
            "Got 676 / 1000 correct (67.60)\n",
            "\n",
            "Epoch 4, Iteration 3829, loss = 0.4481\n",
            "Checking accuracy on validation set\n",
            "Got 739 / 1000 correct (73.90)\n",
            "\n",
            "Epoch 5, Iteration 4595, loss = 1.1056\n",
            "Checking accuracy on validation set\n",
            "Got 773 / 1000 correct (77.30)\n",
            "\n",
            "lr decay from 0.01 to 0.001\n",
            "Epoch 6, Iteration 5361, loss = 0.3775\n",
            "Checking accuracy on validation set\n",
            "Got 815 / 1000 correct (81.50)\n",
            "\n",
            "Epoch 7, Iteration 6127, loss = 0.6062\n",
            "Checking accuracy on validation set\n",
            "Got 806 / 1000 correct (80.60)\n",
            "\n",
            "lr decay from 0.001 to 0.0001\n",
            "Epoch 8, Iteration 6893, loss = 0.2340\n",
            "Checking accuracy on validation set\n",
            "Got 806 / 1000 correct (80.60)\n",
            "\n",
            "Epoch 9, Iteration 7659, loss = 0.4096\n",
            "Checking accuracy on validation set\n",
            "Got 809 / 1000 correct (80.90)\n",
            "\n"
          ]
        }
      ]
    },
    {
      "cell_type": "code",
      "metadata": {
        "id": "-u89CIFfzWWR",
        "colab": {
          "base_uri": "https://localhost:8080/",
          "height": 295
        },
        "outputId": "d74d9e9d-397f-4259-94ca-92af6998c141"
      },
      "source": [
        "plt.title('Val accuracies')\n",
        "for name in names:\n",
        "  plt.plot(iter_history_dict[name], acc_history_dict[name], '-o')\n",
        "plt.legend(names, loc='upper left')\n",
        "plt.xlabel('iterations')\n",
        "plt.ylabel('accuracy')\n",
        "plt.gcf().set_size_inches(9, 4)\n",
        "plt.grid()\n",
        "plt.show()"
      ],
      "execution_count": null,
      "outputs": [
        {
          "output_type": "display_data",
          "data": {
            "image/png": "[encoded data removed]",
            "text/plain": [
              "<Figure size 648x288 with 1 Axes>"
            ]
          },
          "metadata": {
            "needs_background": "light"
          }
        }
      ]
    },
    {
      "cell_type": "markdown",
      "metadata": {
        "id": "7Z31mvHGQT3y"
      },
      "source": [
        "## Residual bottleneck block\n",
        "\n",
        "A bottleneck block is often useful for better efficiency, especially when importing a model to mobile devices.\n",
        "The residual bottleneck block is similar to the standard residual block, but the plain block part has a different architecture:\n",
        "it consists of 3 convolutional layers, and the first two convolutional layers have a smaller number of channels.\n",
        "\n",
        "Here is the specification of the bottleneck block:\n",
        "\n",
        "1. Spatial Batch normalization\n",
        "2. ReLU\n",
        "3. Convolutional layer with `Cout // 4` 1x1 filters, stride 2 if downsampling; otherwise stride 1\n",
        "4. Spatial Batch normalization\n",
        "5. ReLU\n",
        "6. Convolutional layer with `Cout // 4` 3x3 filters, with zero-padding of 1\n",
        "7. Spatial Batch normalization\n",
        "8. ReLU\n",
        "9. Convolutional layer with `Cout` 1x1 filters\n",
        "\n",
        "Don't forget to add the residual connection!"
      ]
    },
    {
      "cell_type": "code",
      "metadata": {
        "id": "7pUtZoVsQT31"
      },
      "source": [
        "class ResidualBottleneckBlock(nn.Module):\n",
        "  def __init__(self, Cin, Cout, downsample=False):\n",
        "    super().__init__()\n",
        "\n",
        "    self.block = None\n",
        "    self.shortcut = None\n",
        "    ############################################################################\n",
        "    # TODO: Implement residual bottleneck block.                               #\n",
        "    # Inputs:                                                                  #\n",
        "    # - Cin: number of input channels                                          #\n",
        "    # - Cout: number of output channels                                        #\n",
        "    # - downsample: add downsampling (a conv with stride=2) if True            #\n",
        "    # Store the main block in self.block and the shortcut in self.shortcut.    #\n",
        "    ############################################################################\n",
        "    # Replace \"pass\" statement with your code\n",
        "    if Cin == Cout and not downsample:\n",
        "        self.block = nn.Sequential(\n",
        "            nn.BatchNorm2d(Cin),\n",
        "            nn.ReLU(),\n",
        "            nn.Conv2d(Cin, Cout//4, (1, 1), stride=1, padding=0),\n",
        "            nn.BatchNorm2d(Cout//4),\n",
        "            nn.ReLU(),\n",
        "            nn.Conv2d(Cout//4, Cout//4, (3, 3), stride=1, padding=1),\n",
        "            nn.BatchNorm2d(Cout//4),\n",
        "            nn.ReLU(),\n",
        "            nn.Conv2d(Cout//4, Cout, (1, 1), stride=1, padding=0)\n",
        "        )\n",
        "        self.shortcut = nn.Identity()\n",
        "    elif Cin != Cout and not downsample:\n",
        "        self.block = nn.Sequential(\n",
        "            nn.BatchNorm2d(Cin),\n",
        "            nn.ReLU(),\n",
        "            nn.Conv2d(Cin, Cout//4, (1, 1), stride=1, padding=0),\n",
        "            nn.BatchNorm2d(Cout//4),\n",
        "            nn.ReLU(),\n",
        "            nn.Conv2d(Cout//4, Cout//4, (3, 3), stride=1, padding=1),\n",
        "            nn.BatchNorm2d(Cout//4),\n",
        "            nn.ReLU(),\n",
        "            nn.Conv2d(Cout//4, Cout, (1, 1), stride=1, padding=0)\n",
        "        )\n",
        "        self.shortcut = nn.Conv2d(Cin, Cout, (1, 1), stride=1, padding=0, bias=False)\n",
        "    elif downsample:\n",
        "        self.block = nn.Sequential(\n",
        "            nn.BatchNorm2d(Cin),\n",
        "            nn.ReLU(),\n",
        "            nn.Conv2d(Cin, Cout//4, (1, 1), stride=2, padding=0),\n",
        "            nn.BatchNorm2d(Cout//4),\n",
        "            nn.ReLU(),\n",
        "            nn.Conv2d(Cout//4, Cout//4, (3, 3), stride=1, padding=1),\n",
        "            nn.BatchNorm2d(Cout//4),\n",
        "            nn.ReLU(),\n",
        "            nn.Conv2d(Cout//4, Cout, (1, 1), stride=1, padding=0)\n",
        "        )\n",
        "        self.shortcut = nn.Conv2d(Cin, Cout, (1, 1), stride=2, padding=0, bias=False)\n",
        "    ############################################################################\n",
        "    #                                 END OF YOUR CODE                         #\n",
        "    ############################################################################\n",
        "\n",
        "  def forward(self, x):\n",
        "    return self.block(x) + self.shortcut(x)"
      ],
      "execution_count": null,
      "outputs": []
    },
    {
      "cell_type": "code",
      "metadata": {
        "id": "vqETnXH5QT37",
        "colab": {
          "base_uri": "https://localhost:8080/"
        },
        "outputId": "632feb59-889e-4098-8933-4932160fae97"
      },
      "source": [
        "data = torch.zeros(2, 3, 5, 6)\n",
        "model = ResidualBottleneckBlock(3, 10)\n",
        "if list(model(data).shape) == [2, 10, 5, 6]:\n",
        "  print('The output of ResidualBlock without downsampling has a *correct* dimension!')\n",
        "else:\n",
        "  print('The output of ResidualBlock without downsampling has an *incorrect* dimension! expected:', [2, 10, 5, 6], 'got:', list(model(data).shape))\n",
        "\n",
        "data = torch.zeros(2, 3, 5, 6)\n",
        "model = ResidualBottleneckBlock(3, 10, downsample=True)\n",
        "if list(model(data).shape) == [2, 10, 3, 3]:\n",
        "  print('The output of ResidualBlock with downsampling has a *correct* dimension!')\n",
        "else:\n",
        "  print('The output of ResidualBlock with downsampling has an *incorrect* dimension! expected:', [2, 10, 3, 3], 'got:', list(model(data).shape))"
      ],
      "execution_count": null,
      "outputs": [
        {
          "output_type": "stream",
          "name": "stdout",
          "text": [
            "The output of ResidualBlock without downsampling has a *correct* dimension!\n",
            "The output of ResidualBlock with downsampling has a *correct* dimension!\n"
          ]
        }
      ]
    },
    {
      "cell_type": "markdown",
      "metadata": {
        "id": "QnRc5hiHudMP"
      },
      "source": [
        "By running the following script, you can check the architecture of ResNet-47 with bottlenecks.\n",
        "\n",
        "Caution: it is long!"
      ]
    },
    {
      "cell_type": "code",
      "metadata": {
        "id": "md6xmG-Aucrx",
        "colab": {
          "base_uri": "https://localhost:8080/"
        },
        "outputId": "b69d7078-65a7-4375-a4b6-e8803db71322"
      },
      "source": [
        "# example of specification\n",
        "networks.update({\n",
        "  'resnet47': {\n",
        "    'block': ResidualBottleneckBlock,\n",
        "    'stage_args': [\n",
        "      (32, 32, 5, False),\n",
        "      (32, 64, 5, True),\n",
        "      (64, 128, 5, True),\n",
        "    ],\n",
        "  },\n",
        "})\n",
        "\n",
        "print(get_resnet('resnet47'))"
      ],
      "execution_count": null,
      "outputs": [
        {
          "output_type": "stream",
          "name": "stdout",
          "text": [
            "ResNet(\n",
            "  (cnn): Sequential(\n",
            "    (0): ResNetStem(\n",
            "      (net): Sequential(\n",
            "        (0): Conv2d(3, 32, kernel_size=(3, 3), stride=(1, 1), padding=(1, 1))\n",
            "        (1): ReLU()\n",
            "      )\n",
            "    )\n",
            "    (1): ResNetStage(\n",
            "      (net): Sequential(\n",
            "        (0): ResidualBlock(\n",
            "          (block): Sequential(\n",
            "            (0): BatchNorm2d(32, eps=1e-05, momentum=0.1, affine=True, track_running_stats=True)\n",
            "            (1): ReLU()\n",
            "            (2): Conv2d(32, 32, kernel_size=(3, 3), stride=(1, 1), padding=(1, 1))\n",
            "            (3): BatchNorm2d(32, eps=1e-05, momentum=0.1, affine=True, track_running_stats=True)\n",
            "            (4): ReLU()\n",
            "            (5): Conv2d(32, 32, kernel_size=(3, 3), stride=(1, 1), padding=(1, 1))\n",
            "          )\n",
            "          (shortcut): Identity()\n",
            "        )\n",
            "        (1): ResidualBlock(\n",
            "          (block): Sequential(\n",
            "            (0): BatchNorm2d(32, eps=1e-05, momentum=0.1, affine=True, track_running_stats=True)\n",
            "            (1): ReLU()\n",
            "            (2): Conv2d(32, 32, kernel_size=(3, 3), stride=(1, 1), padding=(1, 1))\n",
            "            (3): BatchNorm2d(32, eps=1e-05, momentum=0.1, affine=True, track_running_stats=True)\n",
            "            (4): ReLU()\n",
            "            (5): Conv2d(32, 32, kernel_size=(3, 3), stride=(1, 1), padding=(1, 1))\n",
            "          )\n",
            "          (shortcut): Identity()\n",
            "        )\n",
            "        (2): ResidualBlock(\n",
            "          (block): Sequential(\n",
            "            (0): BatchNorm2d(32, eps=1e-05, momentum=0.1, affine=True, track_running_stats=True)\n",
            "            (1): ReLU()\n",
            "            (2): Conv2d(32, 32, kernel_size=(3, 3), stride=(1, 1), padding=(1, 1))\n",
            "            (3): BatchNorm2d(32, eps=1e-05, momentum=0.1, affine=True, track_running_stats=True)\n",
            "            (4): ReLU()\n",
            "            (5): Conv2d(32, 32, kernel_size=(3, 3), stride=(1, 1), padding=(1, 1))\n",
            "          )\n",
            "          (shortcut): Identity()\n",
            "        )\n",
            "        (3): ResidualBlock(\n",
            "          (block): Sequential(\n",
            "            (0): BatchNorm2d(32, eps=1e-05, momentum=0.1, affine=True, track_running_stats=True)\n",
            "            (1): ReLU()\n",
            "            (2): Conv2d(32, 32, kernel_size=(3, 3), stride=(1, 1), padding=(1, 1))\n",
            "            (3): BatchNorm2d(32, eps=1e-05, momentum=0.1, affine=True, track_running_stats=True)\n",
            "            (4): ReLU()\n",
            "            (5): Conv2d(32, 32, kernel_size=(3, 3), stride=(1, 1), padding=(1, 1))\n",
            "          )\n",
            "          (shortcut): Identity()\n",
            "        )\n",
            "        (4): ResidualBlock(\n",
            "          (block): Sequential(\n",
            "            (0): BatchNorm2d(32, eps=1e-05, momentum=0.1, affine=True, track_running_stats=True)\n",
            "            (1): ReLU()\n",
            "            (2): Conv2d(32, 32, kernel_size=(3, 3), stride=(1, 1), padding=(1, 1))\n",
            "            (3): BatchNorm2d(32, eps=1e-05, momentum=0.1, affine=True, track_running_stats=True)\n",
            "            (4): ReLU()\n",
            "            (5): Conv2d(32, 32, kernel_size=(3, 3), stride=(1, 1), padding=(1, 1))\n",
            "          )\n",
            "          (shortcut): Identity()\n",
            "        )\n",
            "      )\n",
            "    )\n",
            "    (2): ResNetStage(\n",
            "      (net): Sequential(\n",
            "        (0): ResidualBlock(\n",
            "          (block): Sequential(\n",
            "            (0): BatchNorm2d(32, eps=1e-05, momentum=0.1, affine=True, track_running_stats=True)\n",
            "            (1): ReLU()\n",
            "            (2): Conv2d(32, 64, kernel_size=(3, 3), stride=(2, 2), padding=(1, 1))\n",
            "            (3): BatchNorm2d(64, eps=1e-05, momentum=0.1, affine=True, track_running_stats=True)\n",
            "            (4): ReLU()\n",
            "            (5): Conv2d(64, 64, kernel_size=(3, 3), stride=(1, 1), padding=(1, 1))\n",
            "          )\n",
            "          (shortcut): Conv2d(32, 64, kernel_size=(1, 1), stride=(2, 2), bias=False)\n",
            "        )\n",
            "        (1): ResidualBlock(\n",
            "          (block): Sequential(\n",
            "            (0): BatchNorm2d(64, eps=1e-05, momentum=0.1, affine=True, track_running_stats=True)\n",
            "            (1): ReLU()\n",
            "            (2): Conv2d(64, 64, kernel_size=(3, 3), stride=(1, 1), padding=(1, 1))\n",
            "            (3): BatchNorm2d(64, eps=1e-05, momentum=0.1, affine=True, track_running_stats=True)\n",
            "            (4): ReLU()\n",
            "            (5): Conv2d(64, 64, kernel_size=(3, 3), stride=(1, 1), padding=(1, 1))\n",
            "          )\n",
            "          (shortcut): Identity()\n",
            "        )\n",
            "        (2): ResidualBlock(\n",
            "          (block): Sequential(\n",
            "            (0): BatchNorm2d(64, eps=1e-05, momentum=0.1, affine=True, track_running_stats=True)\n",
            "            (1): ReLU()\n",
            "            (2): Conv2d(64, 64, kernel_size=(3, 3), stride=(1, 1), padding=(1, 1))\n",
            "            (3): BatchNorm2d(64, eps=1e-05, momentum=0.1, affine=True, track_running_stats=True)\n",
            "            (4): ReLU()\n",
            "            (5): Conv2d(64, 64, kernel_size=(3, 3), stride=(1, 1), padding=(1, 1))\n",
            "          )\n",
            "          (shortcut): Identity()\n",
            "        )\n",
            "        (3): ResidualBlock(\n",
            "          (block): Sequential(\n",
            "            (0): BatchNorm2d(64, eps=1e-05, momentum=0.1, affine=True, track_running_stats=True)\n",
            "            (1): ReLU()\n",
            "            (2): Conv2d(64, 64, kernel_size=(3, 3), stride=(1, 1), padding=(1, 1))\n",
            "            (3): BatchNorm2d(64, eps=1e-05, momentum=0.1, affine=True, track_running_stats=True)\n",
            "            (4): ReLU()\n",
            "            (5): Conv2d(64, 64, kernel_size=(3, 3), stride=(1, 1), padding=(1, 1))\n",
            "          )\n",
            "          (shortcut): Identity()\n",
            "        )\n",
            "        (4): ResidualBlock(\n",
            "          (block): Sequential(\n",
            "            (0): BatchNorm2d(64, eps=1e-05, momentum=0.1, affine=True, track_running_stats=True)\n",
            "            (1): ReLU()\n",
            "            (2): Conv2d(64, 64, kernel_size=(3, 3), stride=(1, 1), padding=(1, 1))\n",
            "            (3): BatchNorm2d(64, eps=1e-05, momentum=0.1, affine=True, track_running_stats=True)\n",
            "            (4): ReLU()\n",
            "            (5): Conv2d(64, 64, kernel_size=(3, 3), stride=(1, 1), padding=(1, 1))\n",
            "          )\n",
            "          (shortcut): Identity()\n",
            "        )\n",
            "      )\n",
            "    )\n",
            "    (3): ResNetStage(\n",
            "      (net): Sequential(\n",
            "        (0): ResidualBlock(\n",
            "          (block): Sequential(\n",
            "            (0): BatchNorm2d(64, eps=1e-05, momentum=0.1, affine=True, track_running_stats=True)\n",
            "            (1): ReLU()\n",
            "            (2): Conv2d(64, 128, kernel_size=(3, 3), stride=(2, 2), padding=(1, 1))\n",
            "            (3): BatchNorm2d(128, eps=1e-05, momentum=0.1, affine=True, track_running_stats=True)\n",
            "            (4): ReLU()\n",
            "            (5): Conv2d(128, 128, kernel_size=(3, 3), stride=(1, 1), padding=(1, 1))\n",
            "          )\n",
            "          (shortcut): Conv2d(64, 128, kernel_size=(1, 1), stride=(2, 2), bias=False)\n",
            "        )\n",
            "        (1): ResidualBlock(\n",
            "          (block): Sequential(\n",
            "            (0): BatchNorm2d(128, eps=1e-05, momentum=0.1, affine=True, track_running_stats=True)\n",
            "            (1): ReLU()\n",
            "            (2): Conv2d(128, 128, kernel_size=(3, 3), stride=(1, 1), padding=(1, 1))\n",
            "            (3): BatchNorm2d(128, eps=1e-05, momentum=0.1, affine=True, track_running_stats=True)\n",
            "            (4): ReLU()\n",
            "            (5): Conv2d(128, 128, kernel_size=(3, 3), stride=(1, 1), padding=(1, 1))\n",
            "          )\n",
            "          (shortcut): Identity()\n",
            "        )\n",
            "        (2): ResidualBlock(\n",
            "          (block): Sequential(\n",
            "            (0): BatchNorm2d(128, eps=1e-05, momentum=0.1, affine=True, track_running_stats=True)\n",
            "            (1): ReLU()\n",
            "            (2): Conv2d(128, 128, kernel_size=(3, 3), stride=(1, 1), padding=(1, 1))\n",
            "            (3): BatchNorm2d(128, eps=1e-05, momentum=0.1, affine=True, track_running_stats=True)\n",
            "            (4): ReLU()\n",
            "            (5): Conv2d(128, 128, kernel_size=(3, 3), stride=(1, 1), padding=(1, 1))\n",
            "          )\n",
            "          (shortcut): Identity()\n",
            "        )\n",
            "        (3): ResidualBlock(\n",
            "          (block): Sequential(\n",
            "            (0): BatchNorm2d(128, eps=1e-05, momentum=0.1, affine=True, track_running_stats=True)\n",
            "            (1): ReLU()\n",
            "            (2): Conv2d(128, 128, kernel_size=(3, 3), stride=(1, 1), padding=(1, 1))\n",
            "            (3): BatchNorm2d(128, eps=1e-05, momentum=0.1, affine=True, track_running_stats=True)\n",
            "            (4): ReLU()\n",
            "            (5): Conv2d(128, 128, kernel_size=(3, 3), stride=(1, 1), padding=(1, 1))\n",
            "          )\n",
            "          (shortcut): Identity()\n",
            "        )\n",
            "        (4): ResidualBlock(\n",
            "          (block): Sequential(\n",
            "            (0): BatchNorm2d(128, eps=1e-05, momentum=0.1, affine=True, track_running_stats=True)\n",
            "            (1): ReLU()\n",
            "            (2): Conv2d(128, 128, kernel_size=(3, 3), stride=(1, 1), padding=(1, 1))\n",
            "            (3): BatchNorm2d(128, eps=1e-05, momentum=0.1, affine=True, track_running_stats=True)\n",
            "            (4): ReLU()\n",
            "            (5): Conv2d(128, 128, kernel_size=(3, 3), stride=(1, 1), padding=(1, 1))\n",
            "          )\n",
            "          (shortcut): Identity()\n",
            "        )\n",
            "      )\n",
            "    )\n",
            "  )\n",
            "  (flatten): Flatten(start_dim=1, end_dim=-1)\n",
            "  (fc): Linear(in_features=128, out_features=10, bias=True)\n",
            ")\n"
          ]
        }
      ]
    },
    {
      "cell_type": "markdown",
      "metadata": {
        "id": "aMoOor3PAJYP"
      },
      "source": [
        "# The following is supplementary content."
      ]
    },
    {
      "cell_type": "code",
      "metadata": {
        "colab": {
          "base_uri": "https://localhost:8080/"
        },
        "id": "QCBX9HKo6EIP",
        "outputId": "d3315b37-41f0-40b5-b541-75150d1863cf"
      },
      "source": [
        "names = ['plain32', 'resnet32', 'resnet47']\n",
        "acc_history_dict = {}\n",
        "iter_history_dict = {}\n",
        "for name in names:\n",
        "  fix_random_seed(0)\n",
        "  print(name, '\\n')\n",
        "  model = get_resnet(name)\n",
        "#   init_module(model)\n",
        "  \n",
        "  optimizer = optim.SGD(model.parameters(), lr=1e-2, momentum=.9, weight_decay=1e-4)\n",
        "\n",
        "  acc_history, iter_history = train(model, optimizer, epochs=10, schedule=[6, 8], verbose=False)\n",
        "  acc_history_dict[name] = acc_history\n",
        "  iter_history_dict[name] = iter_history"
      ],
      "execution_count": null,
      "outputs": [
        {
          "output_type": "stream",
          "name": "stdout",
          "text": [
            "plain32 \n",
            "\n",
            "Epoch 0, Iteration 765, loss = 1.0970\n",
            "Checking accuracy on validation set\n",
            "Got 561 / 1000 correct (56.10)\n",
            "\n",
            "Epoch 1, Iteration 1531, loss = 1.0507\n",
            "Checking accuracy on validation set\n",
            "Got 609 / 1000 correct (60.90)\n",
            "\n",
            "Epoch 2, Iteration 2297, loss = 0.7023\n",
            "Checking accuracy on validation set\n",
            "Got 638 / 1000 correct (63.80)\n",
            "\n",
            "Epoch 3, Iteration 3063, loss = 0.7893\n",
            "Checking accuracy on validation set\n",
            "Got 692 / 1000 correct (69.20)\n",
            "\n",
            "Epoch 4, Iteration 3829, loss = 0.5318\n",
            "Checking accuracy on validation set\n",
            "Got 717 / 1000 correct (71.70)\n",
            "\n",
            "Epoch 5, Iteration 4595, loss = 1.1159\n",
            "Checking accuracy on validation set\n",
            "Got 733 / 1000 correct (73.30)\n",
            "\n",
            "lr decay from 0.01 to 0.001\n",
            "Epoch 6, Iteration 5361, loss = 0.5287\n",
            "Checking accuracy on validation set\n",
            "Got 801 / 1000 correct (80.10)\n",
            "\n",
            "Epoch 7, Iteration 6127, loss = 0.6134\n",
            "Checking accuracy on validation set\n",
            "Got 793 / 1000 correct (79.30)\n",
            "\n",
            "lr decay from 0.001 to 0.0001\n",
            "Epoch 8, Iteration 6893, loss = 0.2973\n",
            "Checking accuracy on validation set\n",
            "Got 793 / 1000 correct (79.30)\n",
            "\n",
            "Epoch 9, Iteration 7659, loss = 0.4208\n",
            "Checking accuracy on validation set\n",
            "Got 797 / 1000 correct (79.70)\n",
            "\n",
            "resnet32 \n",
            "\n",
            "Epoch 0, Iteration 765, loss = 1.0612\n",
            "Checking accuracy on validation set\n",
            "Got 545 / 1000 correct (54.50)\n",
            "\n",
            "Epoch 1, Iteration 1531, loss = 1.0442\n",
            "Checking accuracy on validation set\n",
            "Got 631 / 1000 correct (63.10)\n",
            "\n",
            "Epoch 2, Iteration 2297, loss = 0.9507\n",
            "Checking accuracy on validation set\n",
            "Got 644 / 1000 correct (64.40)\n",
            "\n",
            "Epoch 3, Iteration 3063, loss = 0.7886\n",
            "Checking accuracy on validation set\n",
            "Got 704 / 1000 correct (70.40)\n",
            "\n",
            "Epoch 4, Iteration 3829, loss = 0.5662\n",
            "Checking accuracy on validation set\n",
            "Got 744 / 1000 correct (74.40)\n",
            "\n",
            "Epoch 5, Iteration 4595, loss = 1.0655\n",
            "Checking accuracy on validation set\n",
            "Got 721 / 1000 correct (72.10)\n",
            "\n",
            "lr decay from 0.01 to 0.001\n",
            "Epoch 6, Iteration 5361, loss = 0.3431\n",
            "Checking accuracy on validation set\n",
            "Got 798 / 1000 correct (79.80)\n",
            "\n",
            "Epoch 7, Iteration 6127, loss = 0.6051\n",
            "Checking accuracy on validation set\n",
            "Got 805 / 1000 correct (80.50)\n",
            "\n",
            "lr decay from 0.001 to 0.0001\n",
            "Epoch 8, Iteration 6893, loss = 0.2714\n",
            "Checking accuracy on validation set\n",
            "Got 796 / 1000 correct (79.60)\n",
            "\n",
            "Epoch 9, Iteration 7659, loss = 0.5328\n",
            "Checking accuracy on validation set\n",
            "Got 802 / 1000 correct (80.20)\n",
            "\n",
            "resnet47 \n",
            "\n",
            "Epoch 0, Iteration 765, loss = 1.1959\n",
            "Checking accuracy on validation set\n",
            "Got 606 / 1000 correct (60.60)\n",
            "\n",
            "Epoch 1, Iteration 1531, loss = 1.4746\n",
            "Checking accuracy on validation set\n",
            "Got 645 / 1000 correct (64.50)\n",
            "\n",
            "Epoch 2, Iteration 2297, loss = 0.7793\n",
            "Checking accuracy on validation set\n",
            "Got 752 / 1000 correct (75.20)\n",
            "\n",
            "Epoch 3, Iteration 3063, loss = 0.2836\n",
            "Checking accuracy on validation set\n",
            "Got 725 / 1000 correct (72.50)\n",
            "\n",
            "Epoch 4, Iteration 3829, loss = 0.3443\n",
            "Checking accuracy on validation set\n",
            "Got 792 / 1000 correct (79.20)\n",
            "\n",
            "Epoch 5, Iteration 4595, loss = 0.4576\n",
            "Checking accuracy on validation set\n",
            "Got 816 / 1000 correct (81.60)\n",
            "\n",
            "lr decay from 0.01 to 0.001\n",
            "Epoch 6, Iteration 5361, loss = 0.1298\n",
            "Checking accuracy on validation set\n",
            "Got 869 / 1000 correct (86.90)\n",
            "\n",
            "Epoch 7, Iteration 6127, loss = 0.2984\n",
            "Checking accuracy on validation set\n",
            "Got 868 / 1000 correct (86.80)\n",
            "\n",
            "lr decay from 0.001 to 0.0001\n",
            "Epoch 8, Iteration 6893, loss = 0.2721\n",
            "Checking accuracy on validation set\n",
            "Got 872 / 1000 correct (87.20)\n",
            "\n",
            "Epoch 9, Iteration 7659, loss = 0.2751\n",
            "Checking accuracy on validation set\n",
            "Got 875 / 1000 correct (87.50)\n",
            "\n"
          ]
        }
      ]
    },
    {
      "cell_type": "code",
      "metadata": {
        "colab": {
          "base_uri": "https://localhost:8080/",
          "height": 295
        },
        "id": "cMVjTeoT7lH7",
        "outputId": "0178b284-92bf-4c91-94e6-a95bacea0985"
      },
      "source": [
        "plt.title('Val accuracies')\n",
        "for name in names:\n",
        "  plt.plot(iter_history_dict[name], acc_history_dict[name], '-o')\n",
        "plt.legend(names, loc='upper left')\n",
        "plt.xlabel('iterations')\n",
        "plt.ylabel('accuracy')\n",
        "plt.gcf().set_size_inches(9, 4)\n",
        "plt.grid()\n",
        "plt.show()"
      ],
      "execution_count": null,
      "outputs": [
        {
          "output_type": "display_data",
          "data": {
            "image/png": "[encoded data removed]",
            "text/plain": [
              "<Figure size 648x288 with 1 Axes>"
            ]
          },
          "metadata": {
            "needs_background": "light"
          }
        }
      ]
    },
    {
      "cell_type": "code",
      "metadata": {
        "colab": {
          "base_uri": "https://localhost:8080/"
        },
        "id": "vtwd3co4BCPt",
        "outputId": "f69f4431-8107-4cfc-ff09-4cf951444b5b"
      },
      "source": [
        "# Model summary\n",
        "from torchsummary import summary\n",
        "\n",
        "summary(model, (3, 32, 32))"
      ],
      "execution_count": null,
      "outputs": [
        {
          "output_type": "stream",
          "name": "stdout",
          "text": [
            "----------------------------------------------------------------\n",
            "        Layer (type)               Output Shape         Param #\n",
            "================================================================\n",
            "            Conv2d-1           [-1, 32, 32, 32]             896\n",
            "              ReLU-2           [-1, 32, 32, 32]               0\n",
            "        ResNetStem-3           [-1, 32, 32, 32]               0\n",
            "       BatchNorm2d-4           [-1, 32, 32, 32]              64\n",
            "              ReLU-5           [-1, 32, 32, 32]               0\n",
            "            Conv2d-6           [-1, 32, 32, 32]           9,248\n",
            "       BatchNorm2d-7           [-1, 32, 32, 32]              64\n",
            "              ReLU-8           [-1, 32, 32, 32]               0\n",
            "            Conv2d-9           [-1, 32, 32, 32]           9,248\n",
            "         Identity-10           [-1, 32, 32, 32]               0\n",
            "    ResidualBlock-11           [-1, 32, 32, 32]               0\n",
            "      BatchNorm2d-12           [-1, 32, 32, 32]              64\n",
            "             ReLU-13           [-1, 32, 32, 32]               0\n",
            "           Conv2d-14           [-1, 32, 32, 32]           9,248\n",
            "      BatchNorm2d-15           [-1, 32, 32, 32]              64\n",
            "             ReLU-16           [-1, 32, 32, 32]               0\n",
            "           Conv2d-17           [-1, 32, 32, 32]           9,248\n",
            "         Identity-18           [-1, 32, 32, 32]               0\n",
            "    ResidualBlock-19           [-1, 32, 32, 32]               0\n",
            "      BatchNorm2d-20           [-1, 32, 32, 32]              64\n",
            "             ReLU-21           [-1, 32, 32, 32]               0\n",
            "           Conv2d-22           [-1, 32, 32, 32]           9,248\n",
            "      BatchNorm2d-23           [-1, 32, 32, 32]              64\n",
            "             ReLU-24           [-1, 32, 32, 32]               0\n",
            "           Conv2d-25           [-1, 32, 32, 32]           9,248\n",
            "         Identity-26           [-1, 32, 32, 32]               0\n",
            "    ResidualBlock-27           [-1, 32, 32, 32]               0\n",
            "      BatchNorm2d-28           [-1, 32, 32, 32]              64\n",
            "             ReLU-29           [-1, 32, 32, 32]               0\n",
            "           Conv2d-30           [-1, 32, 32, 32]           9,248\n",
            "      BatchNorm2d-31           [-1, 32, 32, 32]              64\n",
            "             ReLU-32           [-1, 32, 32, 32]               0\n",
            "           Conv2d-33           [-1, 32, 32, 32]           9,248\n",
            "         Identity-34           [-1, 32, 32, 32]               0\n",
            "    ResidualBlock-35           [-1, 32, 32, 32]               0\n",
            "      BatchNorm2d-36           [-1, 32, 32, 32]              64\n",
            "             ReLU-37           [-1, 32, 32, 32]               0\n",
            "           Conv2d-38           [-1, 32, 32, 32]           9,248\n",
            "      BatchNorm2d-39           [-1, 32, 32, 32]              64\n",
            "             ReLU-40           [-1, 32, 32, 32]               0\n",
            "           Conv2d-41           [-1, 32, 32, 32]           9,248\n",
            "         Identity-42           [-1, 32, 32, 32]               0\n",
            "    ResidualBlock-43           [-1, 32, 32, 32]               0\n",
            "      ResNetStage-44           [-1, 32, 32, 32]               0\n",
            "      BatchNorm2d-45           [-1, 32, 32, 32]              64\n",
            "             ReLU-46           [-1, 32, 32, 32]               0\n",
            "           Conv2d-47           [-1, 64, 16, 16]          18,496\n",
            "      BatchNorm2d-48           [-1, 64, 16, 16]             128\n",
            "             ReLU-49           [-1, 64, 16, 16]               0\n",
            "           Conv2d-50           [-1, 64, 16, 16]          36,928\n",
            "           Conv2d-51           [-1, 64, 16, 16]           2,048\n",
            "    ResidualBlock-52           [-1, 64, 16, 16]               0\n",
            "      BatchNorm2d-53           [-1, 64, 16, 16]             128\n",
            "             ReLU-54           [-1, 64, 16, 16]               0\n",
            "           Conv2d-55           [-1, 64, 16, 16]          36,928\n",
            "      BatchNorm2d-56           [-1, 64, 16, 16]             128\n",
            "             ReLU-57           [-1, 64, 16, 16]               0\n",
            "           Conv2d-58           [-1, 64, 16, 16]          36,928\n",
            "         Identity-59           [-1, 64, 16, 16]               0\n",
            "    ResidualBlock-60           [-1, 64, 16, 16]               0\n",
            "      BatchNorm2d-61           [-1, 64, 16, 16]             128\n",
            "             ReLU-62           [-1, 64, 16, 16]               0\n",
            "           Conv2d-63           [-1, 64, 16, 16]          36,928\n",
            "      BatchNorm2d-64           [-1, 64, 16, 16]             128\n",
            "             ReLU-65           [-1, 64, 16, 16]               0\n",
            "           Conv2d-66           [-1, 64, 16, 16]          36,928\n",
            "         Identity-67           [-1, 64, 16, 16]               0\n",
            "    ResidualBlock-68           [-1, 64, 16, 16]               0\n",
            "      BatchNorm2d-69           [-1, 64, 16, 16]             128\n",
            "             ReLU-70           [-1, 64, 16, 16]               0\n",
            "           Conv2d-71           [-1, 64, 16, 16]          36,928\n",
            "      BatchNorm2d-72           [-1, 64, 16, 16]             128\n",
            "             ReLU-73           [-1, 64, 16, 16]               0\n",
            "           Conv2d-74           [-1, 64, 16, 16]          36,928\n",
            "         Identity-75           [-1, 64, 16, 16]               0\n",
            "    ResidualBlock-76           [-1, 64, 16, 16]               0\n",
            "      BatchNorm2d-77           [-1, 64, 16, 16]             128\n",
            "             ReLU-78           [-1, 64, 16, 16]               0\n",
            "           Conv2d-79           [-1, 64, 16, 16]          36,928\n",
            "      BatchNorm2d-80           [-1, 64, 16, 16]             128\n",
            "             ReLU-81           [-1, 64, 16, 16]               0\n",
            "           Conv2d-82           [-1, 64, 16, 16]          36,928\n",
            "         Identity-83           [-1, 64, 16, 16]               0\n",
            "    ResidualBlock-84           [-1, 64, 16, 16]               0\n",
            "      ResNetStage-85           [-1, 64, 16, 16]               0\n",
            "      BatchNorm2d-86           [-1, 64, 16, 16]             128\n",
            "             ReLU-87           [-1, 64, 16, 16]               0\n",
            "           Conv2d-88            [-1, 128, 8, 8]          73,856\n",
            "      BatchNorm2d-89            [-1, 128, 8, 8]             256\n",
            "             ReLU-90            [-1, 128, 8, 8]               0\n",
            "           Conv2d-91            [-1, 128, 8, 8]         147,584\n",
            "           Conv2d-92            [-1, 128, 8, 8]           8,192\n",
            "    ResidualBlock-93            [-1, 128, 8, 8]               0\n",
            "      BatchNorm2d-94            [-1, 128, 8, 8]             256\n",
            "             ReLU-95            [-1, 128, 8, 8]               0\n",
            "           Conv2d-96            [-1, 128, 8, 8]         147,584\n",
            "      BatchNorm2d-97            [-1, 128, 8, 8]             256\n",
            "             ReLU-98            [-1, 128, 8, 8]               0\n",
            "           Conv2d-99            [-1, 128, 8, 8]         147,584\n",
            "        Identity-100            [-1, 128, 8, 8]               0\n",
            "   ResidualBlock-101            [-1, 128, 8, 8]               0\n",
            "     BatchNorm2d-102            [-1, 128, 8, 8]             256\n",
            "            ReLU-103            [-1, 128, 8, 8]               0\n",
            "          Conv2d-104            [-1, 128, 8, 8]         147,584\n",
            "     BatchNorm2d-105            [-1, 128, 8, 8]             256\n",
            "            ReLU-106            [-1, 128, 8, 8]               0\n",
            "          Conv2d-107            [-1, 128, 8, 8]         147,584\n",
            "        Identity-108            [-1, 128, 8, 8]               0\n",
            "   ResidualBlock-109            [-1, 128, 8, 8]               0\n",
            "     BatchNorm2d-110            [-1, 128, 8, 8]             256\n",
            "            ReLU-111            [-1, 128, 8, 8]               0\n",
            "          Conv2d-112            [-1, 128, 8, 8]         147,584\n",
            "     BatchNorm2d-113            [-1, 128, 8, 8]             256\n",
            "            ReLU-114            [-1, 128, 8, 8]               0\n",
            "          Conv2d-115            [-1, 128, 8, 8]         147,584\n",
            "        Identity-116            [-1, 128, 8, 8]               0\n",
            "   ResidualBlock-117            [-1, 128, 8, 8]               0\n",
            "     BatchNorm2d-118            [-1, 128, 8, 8]             256\n",
            "            ReLU-119            [-1, 128, 8, 8]               0\n",
            "          Conv2d-120            [-1, 128, 8, 8]         147,584\n",
            "     BatchNorm2d-121            [-1, 128, 8, 8]             256\n",
            "            ReLU-122            [-1, 128, 8, 8]               0\n",
            "          Conv2d-123            [-1, 128, 8, 8]         147,584\n",
            "        Identity-124            [-1, 128, 8, 8]               0\n",
            "   ResidualBlock-125            [-1, 128, 8, 8]               0\n",
            "     ResNetStage-126            [-1, 128, 8, 8]               0\n",
            "         Flatten-127                  [-1, 128]               0\n",
            "          Linear-128                   [-1, 10]           1,290\n",
            "================================================================\n",
            "Total params: 1,862,154\n",
            "Trainable params: 1,862,154\n",
            "Non-trainable params: 0\n",
            "----------------------------------------------------------------\n",
            "Input size (MB): 0.01\n",
            "Forward/backward pass size (MB): 19.06\n",
            "Params size (MB): 7.10\n",
            "Estimated Total Size (MB): 26.18\n",
            "----------------------------------------------------------------\n"
          ]
        }
      ]
    },
    {
      "cell_type": "markdown",
      "metadata": {
        "id": "81qgm-P5cQ4R"
      },
      "source": [
        "*Many thanks to Justin Johnson and Stanford CS231n for permission to use their materials!*"
      ]
    }
  ]
}
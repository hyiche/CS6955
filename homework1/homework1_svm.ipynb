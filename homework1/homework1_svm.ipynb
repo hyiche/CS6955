{
  "nbformat": 4,
  "nbformat_minor": 0,
  "metadata": {
    "colab": {
      "name": "homework1_svm.ipynb",
      "provenance": [],
      "collapsed_sections": []
    },
    "kernelspec": {
      "display_name": "Python 3",
      "language": "python",
      "name": "python3"
    }
  },
  "cells": [
    {
      "cell_type": "markdown",
      "metadata": {
        "id": "OZI6TD_XO5p9"
      },
      "source": [
        "# Homework 1: Classifiers"
      ]
    },
    {
      "cell_type": "markdown",
      "metadata": {
        "id": "S4jwe7FoOMU2"
      },
      "source": [
        "# Linear Support Vector Machine (SVM) classifier\n",
        "\n",
        "In this exercise you will:\n",
        "    \n",
        "- implement a fully-vectorized **loss function** for the SVM\n",
        "- implement the fully-vectorized expression for its **analytic gradient**\n",
        "- **check your implementation** using numerical gradient\n",
        "- use a validation set to **tune the learning rate and regularization** strength\n",
        "- **optimize** the loss function with **SGD**\n",
        "- **visualize** the final learned weights\n"
      ]
    },
    {
      "cell_type": "code",
      "metadata": {
        "id": "iCXYH6i5OMU3"
      },
      "source": [
        "import numpy as np\n",
        "import matplotlib.pyplot as plt\n",
        "import seaborn as sns\n",
        "\n",
        "sns.set()"
      ],
      "execution_count": null,
      "outputs": []
    },
    {
      "cell_type": "markdown",
      "metadata": {
        "id": "awwU3lohOMU7"
      },
      "source": [
        "## Load and preprocess CIFAR-10 dataset"
      ]
    },
    {
      "cell_type": "code",
      "metadata": {
        "id": "id2N67NsPfm4",
        "colab": {
          "base_uri": "https://localhost:8080/"
        },
        "outputId": "8b7b81a1-ba85-49d9-8164-763d710a8e0e"
      },
      "source": [
        "from keras.datasets import cifar10\n",
        "\n",
        "def get_CIFAR10_data(num_training=49000, num_validation=1000,\n",
        "                     num_test=1000, num_dev=500):\n",
        "    \"\"\"\n",
        "    Load the CIFAR-10 dataset from disk and perform preprocessing to prepare\n",
        "    it for the linear classifier. These are the same steps as we used for the\n",
        "    SVM, but condensed to a single function.  \n",
        "    \"\"\"\n",
        "    # Load the raw CIFAR-10 data\n",
        "    (X_train, y_train), (X_test, y_test) = cifar10.load_data()\n",
        "    \n",
        "    # All the data comes in the uint8 format, so we need to convert\n",
        "    # it to floats so that we compute numbers greater than 255.\n",
        "    X_train = X_train.astype(np.float)\n",
        "    X_test = X_test.astype(np.float)\n",
        "    # Also, for convenience we flatten the class arrays.\n",
        "    y_train = y_train.flatten()\n",
        "    y_test = y_test.flatten()\n",
        "    \n",
        "    # Split the data into train, val, and test sets. In addition we will\n",
        "    # create a small development set as a subset of the training data;\n",
        "    # we can use this for development so our code runs faster.\n",
        "    \n",
        "    # Our validation set will be num_validation points from the original\n",
        "    # training set.\n",
        "    mask = list(range(num_training, num_training + num_validation))\n",
        "    X_val = X_train[mask]\n",
        "    y_val = y_train[mask]\n",
        "    \n",
        "    # Our training set will be the first num_train points from the original\n",
        "    # training set.\n",
        "    mask = list(range(num_training))\n",
        "    X_train = X_train[mask]\n",
        "    y_train = y_train[mask]\n",
        "    \n",
        "    # We will also make a development set, which is a small subset of\n",
        "    # the training set.\n",
        "    mask = np.random.choice(num_training, num_dev, replace=False)\n",
        "    X_dev = X_train[mask]\n",
        "    y_dev = y_train[mask]\n",
        "    \n",
        "    # We use the first num_test points of the original test set as our\n",
        "    # test set.\n",
        "    mask = list(range(num_test))\n",
        "    X_test = X_test[mask]\n",
        "    y_test = y_test[mask]\n",
        "    \n",
        "    # Preprocessing: reshape the image data into rows\n",
        "    X_train = np.reshape(X_train, (X_train.shape[0], -1))\n",
        "    X_val = np.reshape(X_val, (X_val.shape[0], -1))\n",
        "    X_test = np.reshape(X_test, (X_test.shape[0], -1))\n",
        "    X_dev = np.reshape(X_dev, (X_dev.shape[0], -1))\n",
        "    \n",
        "    # Normalize the data: subtract the mean image\n",
        "    mean_image = np.mean(X_train, axis = 0)\n",
        "    X_train -= mean_image\n",
        "    X_val -= mean_image\n",
        "    X_test -= mean_image\n",
        "    X_dev -= mean_image\n",
        "    \n",
        "    # third: append the bias dimension of ones (i.e. bias trick) so that our SVM\n",
        "    # only has to worry about optimizing a single weight matrix W.\n",
        "    X_train = np.hstack([X_train, np.ones((X_train.shape[0], 1))])\n",
        "    X_val = np.hstack([X_val, np.ones((X_val.shape[0], 1))])\n",
        "    X_test = np.hstack([X_test, np.ones((X_test.shape[0], 1))])\n",
        "    X_dev = np.hstack([X_dev, np.ones((X_dev.shape[0], 1))])\n",
        "    \n",
        "    return X_train, y_train, X_val, y_val, X_test, y_test, X_dev, y_dev\n",
        "\n",
        "\n",
        "# Invoke the above function to get our data.\n",
        "X_train, y_train, X_val, y_val, X_test, y_test, X_dev, y_dev = get_CIFAR10_data()\n",
        "print('Train data shape: ', X_train.shape)\n",
        "print('Train labels shape: ', y_train.shape)\n",
        "print('Validation data shape: ', X_val.shape)\n",
        "print('Validation labels shape: ', y_val.shape)\n",
        "print('Test data shape: ', X_test.shape)\n",
        "print('Test labels shape: ', y_test.shape)\n",
        "print('dev data shape: ', X_dev.shape)\n",
        "print('dev labels shape: ', y_dev.shape)"
      ],
      "execution_count": null,
      "outputs": [
        {
          "output_type": "stream",
          "name": "stdout",
          "text": [
            "Train data shape:  (49000, 3073)\n",
            "Train labels shape:  (49000,)\n",
            "Validation data shape:  (1000, 3073)\n",
            "Validation labels shape:  (1000,)\n",
            "Test data shape:  (1000, 3073)\n",
            "Test labels shape:  (1000,)\n",
            "dev data shape:  (500, 3073)\n",
            "dev labels shape:  (500,)\n"
          ]
        }
      ]
    },
    {
      "cell_type": "markdown",
      "metadata": {
        "id": "WsA0GJvKOMVR"
      },
      "source": [
        "## Define a naive SVM classifier loss function\n",
        "\n",
        "Next we define the SVM loss function.  This will be a naive implementation using loops.  Most of the code for this loss function already exists, but you will need to write code of your own to finish it.  Follow the instructions in the TODO section.\n",
        "\n",
        "Recall that the contribution of a training point $(x_i, y_i)$ to the SVM loss function is\n",
        "\n",
        "$$L_i = \\sum_{j \\neq y_i} \\max(0, s_j− s_{y_i} + \\Delta)$$\n",
        "\n",
        "where $\\Delta$ is the *margin*.  The loss function encourages the score $s_{y_i}$ of the correct class $y_i$ to be larger than any of the other scores $s_j$ by at least the margin $\\Delta$.  The score $s$ is parametrized by\n",
        "a linear function $s_j = xW_j$ where $x$ is a single data sample and $W_j$ is the $j$th column of $W$.\n",
        "\n",
        "![margin](http://cs231n.github.io/assets/margin.jpg)"
      ]
    },
    {
      "cell_type": "code",
      "metadata": {
        "id": "mGC3rwO7TTY3"
      },
      "source": [
        "def svm_loss_naive(W, X, y, reg):\n",
        "    \"\"\"\n",
        "    Structured SVM loss function, naive implementation (with loops).\n",
        "\n",
        "    Inputs have dimension D, there are C classes, and we operate on minibatches\n",
        "    of N examples.\n",
        "\n",
        "    Inputs:\n",
        "    - W: A numpy array of shape (D, C) containing weights.\n",
        "    - X: A numpy array of shape (N, D) containing a minibatch of data.\n",
        "    - y: A numpy array of shape (N,) containing training labels; y[i] = c means\n",
        "    that X[i] has label c, where 0 <= c < C.\n",
        "    - reg: (float) regularization strength\n",
        "\n",
        "    Returns a tuple of:\n",
        "    - loss as single float\n",
        "    - gradient with respect to weights W; an array of same shape as W\n",
        "    \"\"\"\n",
        "    dW = np.zeros(W.shape) # initialize the gradient as zero\n",
        "\n",
        "    # compute the loss and the gradient\n",
        "    num_classes = W.shape[1]\n",
        "    num_train = X.shape[0]\n",
        "    loss = 0.0\n",
        "    for i in range(num_train):\n",
        "        scores = X[i].dot(W)\n",
        "        correct_class_score = scores[y[i]]\n",
        "        for j in range(num_classes):\n",
        "            if j == y[i]:\n",
        "                continue\n",
        "            margin = scores[j] - correct_class_score + 1 # note delta = 1\n",
        "            if margin > 0:\n",
        "                loss += margin\n",
        "                dW[:, y[i]] -= X[i, :]\n",
        "                dW[:, j] += X[i, :]\n",
        "\n",
        "    # Right now the loss is a sum over all training examples, but we want it\n",
        "    # to be an average instead so we divide by num_train.\n",
        "    loss /= num_train\n",
        "\n",
        "    # average the gradient over mini-batch\n",
        "    dW /= num_train\n",
        "\n",
        "    # Add regularization to the loss.\n",
        "    loss += reg * np.sum(W * W)\n",
        "\n",
        "    # Add regularization to the gradient.\n",
        "    dW += reg * W\n",
        "\n",
        "    #############################################################################\n",
        "    # TODO: 加上gradient                                                                    #\n",
        "    # Compute the gradient of the loss function and store it dW.                #\n",
        "    # Rather than first computing the loss and then computing the derivative,   #\n",
        "    # it may be simpler to compute the derivative at the same time that the     #\n",
        "    # loss is being computed. As a result you may need to modify some of the    #\n",
        "    # code above to compute the gradient.                                       #\n",
        "    #############################################################################\n",
        "\n",
        "\n",
        "    return loss, dW"
      ],
      "execution_count": null,
      "outputs": []
    },
    {
      "cell_type": "code",
      "metadata": {
        "id": "2t9nwfXJOMVR",
        "colab": {
          "base_uri": "https://localhost:8080/"
        },
        "outputId": "cf4553d3-8040-4f0b-ec12-b2201aac9723"
      },
      "source": [
        "# Evaluate the naive implementation of the SVM loss\n",
        "import time\n",
        "\n",
        "# generate a random SVM weight matrix of small numbers\n",
        "W = np.random.randn(3073, 10) * 0.0001 \n",
        "\n",
        "loss, grad = svm_loss_naive(W, X_dev, y_dev, 0.000005)\n",
        "print('loss: %f' % (loss, ))"
      ],
      "execution_count": null,
      "outputs": [
        {
          "output_type": "stream",
          "name": "stdout",
          "text": [
            "loss: 9.201873\n"
          ]
        }
      ]
    },
    {
      "cell_type": "markdown",
      "metadata": {
        "id": "bz8dvNLdOMVW"
      },
      "source": [
        "To check that you have implemented the gradient correctly, you can numerically estimate the gradient of the loss function and compare the numeric estimate to the gradient that you computed. We have provided code that does this for you:"
      ]
    },
    {
      "cell_type": "code",
      "metadata": {
        "id": "6YBaXemDVM_s",
        "colab": {
          "base_uri": "https://localhost:8080/"
        },
        "outputId": "35314a49-7d78-4acc-d9cb-5ce2ba00a8ad"
      },
      "source": [
        "def grad_check_sparse(f, x, analytic_grad, num_checks=10, h=1e-5):\n",
        "    \"\"\"\n",
        "    sample a few random elements and only return numerical\n",
        "    in this dimensions.\n",
        "    \"\"\"\n",
        "\n",
        "    for i in range(num_checks):\n",
        "        ix = tuple([np.random.randint(m) for m in x.shape])\n",
        "\n",
        "        oldval = x[ix]\n",
        "        x[ix] = oldval + h # increment by h\n",
        "        fxph = f(x) # evaluate f(x + h)\n",
        "        x[ix] = oldval - h # increment by h\n",
        "        fxmh = f(x) # evaluate f(x - h)\n",
        "        x[ix] = oldval # reset\n",
        "\n",
        "        grad_numerical = (fxph - fxmh) / (2 * h)\n",
        "        grad_analytic = analytic_grad[ix]\n",
        "        rel_error = abs(grad_numerical - grad_analytic) / (abs(grad_numerical) + abs(grad_analytic))\n",
        "        print('numerical: %f analytic: %f, relative error: %e' % (grad_numerical, grad_analytic, rel_error))\n",
        "    \n",
        "# Once you've implemented the gradient, recompute it with the code below\n",
        "# and gradient check it with the function we provided for you\n",
        "\n",
        "# Compute the loss and its gradient at W.\n",
        "loss, grad = svm_loss_naive(W, X_dev, y_dev, 0.0)\n",
        "\n",
        "# Numerically compute the gradient along several randomly chosen dimensions, and\n",
        "# compare them with your analytically computed gradient. The numbers should match\n",
        "# almost exactly along all dimensions.\n",
        "f = lambda w: svm_loss_naive(w, X_dev, y_dev, 0.0)[0]\n",
        "grad_numerical = grad_check_sparse(f, W, grad)\n",
        "\n",
        "# do the gradient check once again with regularization turned on\n",
        "# you didn't forget the regularization gradient did you?\n",
        "loss, grad = svm_loss_naive(W, X_dev, y_dev, 5e1)\n",
        "f = lambda w: svm_loss_naive(w, X_dev, y_dev, 5e1)[0]\n",
        "grad_numerical = grad_check_sparse(f, W, grad)"
      ],
      "execution_count": null,
      "outputs": [
        {
          "output_type": "stream",
          "name": "stdout",
          "text": [
            "numerical: -7.912235 analytic: -7.912235, relative error: 2.562154e-11\n",
            "numerical: 2.782015 analytic: 2.782015, relative error: 1.329268e-10\n",
            "numerical: -9.289829 analytic: -9.289829, relative error: 2.242639e-11\n",
            "numerical: -24.213529 analytic: -24.213529, relative error: 1.359401e-12\n",
            "numerical: -3.906206 analytic: -3.906206, relative error: 5.708246e-11\n",
            "numerical: 4.362978 analytic: 4.362978, relative error: 1.339501e-13\n",
            "numerical: 5.438141 analytic: 5.438141, relative error: 1.392246e-11\n",
            "numerical: 17.911717 analytic: 17.911717, relative error: 2.386794e-12\n",
            "numerical: -4.713310 analytic: -4.811273, relative error: 1.028525e-02\n",
            "numerical: -7.053502 analytic: -7.053502, relative error: 4.214285e-11\n",
            "numerical: 5.320734 analytic: 5.245293, relative error: 7.139932e-03\n",
            "numerical: 8.093217 analytic: 8.085658, relative error: 4.672273e-04\n",
            "numerical: -18.233175 analytic: -18.226642, relative error: 1.791923e-04\n",
            "numerical: -10.847519 analytic: -10.855334, relative error: 3.600653e-04\n",
            "numerical: -23.910014 analytic: -23.934823, relative error: 5.185298e-04\n",
            "numerical: -4.187017 analytic: -4.175772, relative error: 1.344578e-03\n",
            "numerical: 8.485106 analytic: 8.587247, relative error: 5.982826e-03\n",
            "numerical: 1.420606 analytic: 1.425909, relative error: 1.863086e-03\n",
            "numerical: 20.497477 analytic: 20.491044, relative error: 1.569301e-04\n",
            "numerical: 2.058058 analytic: 2.053362, relative error: 1.142186e-03\n"
          ]
        }
      ]
    },
    {
      "cell_type": "markdown",
      "metadata": {
        "id": "Hvd_VaMEOMVa"
      },
      "source": [
        "### Inline Question 1:\n",
        "It is possible that once in a while a value in the gradcheck will not match exactly. What could such a discrepancy be caused by? Is it a reason for concern? What is a simple example in one dimension where a gradient check could fail? *Hint: the SVM loss function is not strictly speaking differentiable*\n",
        "\n",
        "**Your Answer:** *fill this in.*"
      ]
    },
    {
      "cell_type": "markdown",
      "metadata": {
        "id": "o6HmrLW9gad-"
      },
      "source": [
        "## Define a vectorized SVM classifier loss function\n",
        "\n",
        "Next we define the vectorized (i.e. no loops) version of the SVM loss function.  Most of the code for this loss function already exists, but you will need to write code of your own to finish it.  Follow the instructions in the TODO section."
      ]
    },
    {
      "cell_type": "code",
      "metadata": {
        "id": "0f0qcprBTcQ_"
      },
      "source": [
        "def svm_loss_vectorized(W, X, y, reg):\n",
        "    \"\"\"\n",
        "    Structured SVM loss function, vectorized implementation.\n",
        "\n",
        "    Inputs and outputs are the same as svm_loss_naive.\n",
        "    \"\"\"\n",
        "    loss = 0.0\n",
        "    dW = np.zeros(W.shape) # initialize the gradient as zero\n",
        "\n",
        "    #############################################################################\n",
        "    # TODO:                                                                     #\n",
        "    # Implement a vectorized form of the SVM loss, storing the result in loss.  #\n",
        "    #                                                                           #\n",
        "    #############################################################################\n",
        "    # num_train = X.shape[0]\n",
        "    # score_matrix = X.dot(W)\n",
        "    # correct_scores = np.expand_dims(score_matrix[range(num_train), y], axis=1)\n",
        "    # margins = score_matrix - correct_scores + 1\n",
        "    # loss = np.sum(margins[margins > 0]) - num_train\n",
        "\n",
        "    delta = 1\n",
        "    num_train = X.shape[0]\n",
        "    scores = np.dot(X, W)\n",
        "    # print(scores.shape)\n",
        "    correct_class_score = scores[range(num_train), y]\n",
        "    # print(correct_class_score.shape)\n",
        "    margin = np.maximum(0, scores - correct_class_score[:, np.newaxis] + delta)\n",
        "    # print(margin.shape)\n",
        "    # print(margin)\n",
        "    margin[range(num_train), y] = 0\n",
        "    loss = np.sum(margin)\n",
        "    \n",
        "    loss /= num_train\n",
        "    loss += 0.5 * reg * np.sum(W * W)\n",
        "\n",
        "\n",
        "    #############################################################################\n",
        "    #                             END OF YOUR CODE                              #\n",
        "    #############################################################################\n",
        "\n",
        "\n",
        "    #############################################################################\n",
        "    # TODO:                                                                     #\n",
        "    # Implement a vectorized version of the gradient for the SVM loss,          #\n",
        "    # storing the result in dW.                                                 #\n",
        "    #                                                                           #\n",
        "    # Hint: Instead of computing the gradient from scratch, it may be easier    #\n",
        "    # to reuse some of the intermediate values that you used to compute the     #\n",
        "    # loss.                                                                     #\n",
        "    #############################################################################\n",
        "    # index_matrix = (margins > 0) * 1\n",
        "    # diff_count_matrix = np.sum(index_matrix, axis = 1)\n",
        "    # index_matrix[range(num_train), y] -= diff_count_matrix\n",
        "    # dW += X.T.dot(index_matrix)\n",
        "\n",
        "    X_mask = np.zeros(margin.shape)\n",
        "    X_mask[margin > 0] = 1\n",
        "    # As usual, we count the number of these examples where margin > 0\n",
        "    count = np.sum(X_mask, axis=1)\n",
        "    # print(count.shape)\n",
        "    # print(count)\n",
        "    X_mask[range(num_train), y] = (-1) * count\n",
        "    dW += np.dot(X.T, X_mask)\n",
        "\n",
        "    dW /= num_train\n",
        "    dW += reg * W\n",
        "    #############################################################################\n",
        "    #                             END OF YOUR CODE                              #\n",
        "    #############################################################################\n",
        "\n",
        "    return loss, dW"
      ],
      "execution_count": null,
      "outputs": []
    },
    {
      "cell_type": "code",
      "metadata": {
        "id": "uwqzu77bOMVb",
        "colab": {
          "base_uri": "https://localhost:8080/"
        },
        "outputId": "13d639fa-c87b-423f-fdd7-968271f099bb"
      },
      "source": [
        "# Evaluate the naive implementation of the SVM loss\n",
        "tic = time.time()\n",
        "loss_naive, grad_naive = svm_loss_naive(W, X_dev, y_dev, 0.000005)\n",
        "toc = time.time()\n",
        "print('Naive loss: %e computed in %fs' % (loss_naive, toc - tic))\n",
        "\n",
        "# Evaluate the vectorized implementation of the SVM loss\n",
        "tic = time.time()\n",
        "loss_vectorized, _ = svm_loss_vectorized(W, X_dev, y_dev, 0.000005)\n",
        "toc = time.time()\n",
        "print('Vectorized loss: %e computed in %fs' % (loss_vectorized, toc - tic))\n",
        "\n",
        "# The losses should match but your vectorized implementation should be much faster.\n",
        "print('difference: %f' % (loss_naive - loss_vectorized))"
      ],
      "execution_count": null,
      "outputs": [
        {
          "output_type": "stream",
          "name": "stdout",
          "text": [
            "Naive loss: 9.201873e+00 computed in 0.129202s\n",
            "Vectorized loss: 9.201873e+00 computed in 0.013808s\n",
            "difference: 0.000000\n"
          ]
        }
      ]
    },
    {
      "cell_type": "code",
      "metadata": {
        "id": "TLTsNqnqOMVe",
        "colab": {
          "base_uri": "https://localhost:8080/"
        },
        "outputId": "dabc9413-3263-46a8-88a3-da04b85b83ef"
      },
      "source": [
        "# Evaluate the naive implementation of the SVM gradients\n",
        "\n",
        "# The naive implementation and the vectorized implementation should match, but\n",
        "# the vectorized version should still be much faster.\n",
        "tic = time.time()\n",
        "_, grad_naive = svm_loss_naive(W, X_dev, y_dev, 0.000005)\n",
        "toc = time.time()\n",
        "print('Naive loss and gradient: computed in %fs' % (toc - tic))\n",
        "\n",
        "tic = time.time()\n",
        "_, grad_vectorized = svm_loss_vectorized(W, X_dev, y_dev, 0.000005)\n",
        "toc = time.time()\n",
        "print('Vectorized loss and gradient: computed in %fs' % (toc - tic))\n",
        "\n",
        "# The loss is a single number, so it is easy to compare the values computed\n",
        "# by the two implementations. The gradient on the other hand is a matrix, so\n",
        "# we use the Frobenius norm to compare them.\n",
        "difference = np.linalg.norm(grad_naive - grad_vectorized, ord='fro')\n",
        "print('difference: %f' % difference)"
      ],
      "execution_count": null,
      "outputs": [
        {
          "output_type": "stream",
          "name": "stdout",
          "text": [
            "Naive loss and gradient: computed in 0.144359s\n",
            "Vectorized loss and gradient: computed in 0.011247s\n",
            "difference: 0.000000\n"
          ]
        }
      ]
    },
    {
      "cell_type": "markdown",
      "metadata": {
        "id": "mg7WN3GnOMVi"
      },
      "source": [
        "## Stochastic Gradient Descent\n",
        "\n",
        "We now have vectorized and efficient expressions for the loss, the gradient and our gradient matches the numerical gradient. We are therefore ready to do SGD to minimize the loss.  Follow the instructions in the TODO sections."
      ]
    },
    {
      "cell_type": "code",
      "metadata": {
        "id": "1guPOQKpXnUd"
      },
      "source": [
        "class SVM(object):\n",
        "\n",
        "    def __init__(self):\n",
        "        self.W = None\n",
        "\n",
        "    def train(self, X, y, learning_rate=1e-3, reg=1e-5, num_iters=100,\n",
        "            batch_size=200, verbose=False):\n",
        "        \"\"\"\n",
        "        Train this linear classifier using stochastic gradient descent.\n",
        "\n",
        "        Inputs:\n",
        "        - X: A numpy array of shape (N, D) containing training data; there are N\n",
        "            training samples each of dimension D.\n",
        "        - y: A numpy array of shape (N,) containing training labels; y[i] = c\n",
        "            means that X[i] has label 0 <= c < C for C classes.\n",
        "        - learning_rate: (float) learning rate for optimization.\n",
        "        - reg: (float) regularization strength.\n",
        "        - num_iters: (integer) number of steps to take when optimizing\n",
        "        - batch_size: (integer) number of training examples to use at each step.\n",
        "        - verbose: (boolean) If true, print progress during optimization.\n",
        "\n",
        "        Outputs:\n",
        "        A list containing the value of the loss function at each training iteration.\n",
        "        \"\"\"\n",
        "        num_train, dim = X.shape\n",
        "        num_classes = np.max(y) + 1 # assume y takes values 0...K-1 where K is number of classes\n",
        "        if self.W is None:\n",
        "            # lazily initialize W\n",
        "            self.W = 0.001 * np.random.randn(dim, num_classes)\n",
        "\n",
        "        # Run stochastic gradient descent to optimize W\n",
        "        loss_history = []\n",
        "        for it in range(num_iters):\n",
        "            X_batch = None\n",
        "            y_batch = None\n",
        "\n",
        "            #########################################################################\n",
        "            # TODO:                                                                 #\n",
        "            # Sample batch_size elements from the training data and their           #\n",
        "            # corresponding labels to use in this round of gradient descent.        #\n",
        "            # Store the data in X_batch and their corresponding labels in           #\n",
        "            # y_batch; after sampling X_batch should have shape (dim, batch_size)   #\n",
        "            # and y_batch should have shape (batch_size,)                           #\n",
        "            #                                                                       #\n",
        "            # Hint: Use np.random.choice to generate indices. Sampling with         #\n",
        "            # replacement is faster than sampling without replacement.              #\n",
        "            #########################################################################\n",
        "            indices = np.random.choice(a=num_train, size=batch_size, replace=True)\n",
        "            X_batch = X[indices]\n",
        "            y_batch = y[indices]\n",
        "            # print('X_batch.shape', X_batch.shape)\n",
        "            # print('y_batch.shape', y_batch.shape)\n",
        "            #########################################################################\n",
        "            #                       END OF YOUR CODE                                #\n",
        "            #########################################################################\n",
        "\n",
        "            # evaluate loss and gradient\n",
        "            loss, grad = self.loss(X_batch, y_batch, reg)\n",
        "            loss_history.append(loss)\n",
        "\n",
        "            # perform parameter update\n",
        "            #########################################################################\n",
        "            # TODO:                                                                 #\n",
        "            # Update the weights using the gradient and the learning rate.          #\n",
        "            #########################################################################\n",
        "            self.W -= learning_rate * grad\n",
        "            #########################################################################\n",
        "            #                       END OF YOUR CODE                                #\n",
        "            #########################################################################\n",
        "\n",
        "            if verbose and it % 100 == 0:\n",
        "                print('iteration %d / %d: loss %f' % (it, num_iters, loss))\n",
        "\n",
        "        return loss_history\n",
        "\n",
        "    def predict(self, X):\n",
        "        \"\"\"\n",
        "        Use the trained weights of this linear classifier to predict labels for\n",
        "        data points.\n",
        "\n",
        "        Inputs:\n",
        "        - X: A numpy array of shape (N, D) containing training data; there are N\n",
        "            training samples each of dimension D.\n",
        "\n",
        "        Returns:\n",
        "        - y_pred: Predicted labels for the data in X. y_pred is a 1-dimensional\n",
        "            array of length N, and each element is an integer giving the predicted\n",
        "            class.\n",
        "        \"\"\"\n",
        "        y_pred = np.zeros(X.shape[0])\n",
        "        ###########################################################################\n",
        "        # TODO:                                                                   #\n",
        "        # Implement this method. Store the predicted labels in y_pred.            #\n",
        "        ###########################################################################\n",
        "        logit = np.dot(X, self.W)\n",
        "        y_pred = np.argmax(logit, axis=1)\n",
        "        ###########################################################################\n",
        "        #                           END OF YOUR CODE                              #\n",
        "        ###########################################################################\n",
        "        return y_pred\n",
        "  \n",
        "    def loss(self, X_batch, y_batch, reg):\n",
        "        \"\"\"\n",
        "        Compute the loss function and its derivative. \n",
        "        Subclasses will override this.\n",
        "\n",
        "        Inputs:\n",
        "        - X_batch: A numpy array of shape (N, D) containing a minibatch of N\n",
        "            data points; each point has dimension D.\n",
        "        - y_batch: A numpy array of shape (N,) containing labels for the minibatch.\n",
        "        - reg: (float) regularization strength.\n",
        "\n",
        "        Returns: A tuple containing:\n",
        "        - loss as a single float\n",
        "        - gradient with respect to self.W; an array of the same shape as W\n",
        "        \"\"\"\n",
        "        return svm_loss_vectorized(self.W, X_batch, y_batch, reg)"
      ],
      "execution_count": null,
      "outputs": []
    },
    {
      "cell_type": "code",
      "metadata": {
        "id": "ZriZodeKOMVj",
        "colab": {
          "base_uri": "https://localhost:8080/"
        },
        "outputId": "5194e579-aca7-463b-edec-473f00a44ffb"
      },
      "source": [
        "# Implement SGD in the function SVM.train() and then run it with the code below.\n",
        "svm = SVM()\n",
        "tic = time.time()\n",
        "loss_hist = svm.train(X_train, y_train, learning_rate=1e-7, reg=2.5e4,\n",
        "                      num_iters=1500, verbose=True)\n",
        "toc = time.time()\n",
        "print('That took %fs' % (toc - tic))"
      ],
      "execution_count": null,
      "outputs": [
        {
          "output_type": "stream",
          "name": "stdout",
          "text": [
            "iteration 0 / 1500: loss 408.834978\n",
            "iteration 100 / 1500: loss 241.359597\n",
            "iteration 200 / 1500: loss 147.005984\n",
            "iteration 300 / 1500: loss 90.436497\n",
            "iteration 400 / 1500: loss 56.347213\n",
            "iteration 500 / 1500: loss 35.745102\n",
            "iteration 600 / 1500: loss 23.476030\n",
            "iteration 700 / 1500: loss 15.900526\n",
            "iteration 800 / 1500: loss 11.514088\n",
            "iteration 900 / 1500: loss 8.680826\n",
            "iteration 1000 / 1500: loss 7.275390\n",
            "iteration 1100 / 1500: loss 6.665506\n",
            "iteration 1200 / 1500: loss 6.211284\n",
            "iteration 1300 / 1500: loss 5.853110\n",
            "iteration 1400 / 1500: loss 5.448438\n",
            "That took 8.657130s\n"
          ]
        }
      ]
    },
    {
      "cell_type": "code",
      "metadata": {
        "id": "qIZ965oDOMVn",
        "colab": {
          "base_uri": "https://localhost:8080/",
          "height": 285
        },
        "outputId": "528ca270-6d64-4a71-b2d9-7553e4f8c303"
      },
      "source": [
        "# A useful debugging strategy is to plot the loss as a function of\n",
        "# iteration number:\n",
        "plt.plot(loss_hist)\n",
        "plt.xlabel('Iteration number')\n",
        "plt.ylabel('Loss value')\n",
        "plt.show()"
      ],
      "execution_count": null,
      "outputs": [
        {
          "output_type": "display_data",
          "data": {
            "image/png": "[encoded data removed]",
            "text/plain": [
              "<Figure size 432x288 with 1 Axes>"
            ]
          },
          "metadata": {
            "needs_background": "light"
          }
        }
      ]
    },
    {
      "cell_type": "code",
      "metadata": {
        "id": "bV-KJB5tOMVr",
        "colab": {
          "base_uri": "https://localhost:8080/"
        },
        "outputId": "d03de878-99cb-4275-d82f-84515167d175"
      },
      "source": [
        "# Write the SVM.predict function and evaluate the performance on both the\n",
        "# training and validation set\n",
        "y_train_pred = svm.predict(X_train)\n",
        "print('training accuracy: %f' % (np.mean(y_train == y_train_pred), ))\n",
        "y_val_pred = svm.predict(X_val)\n",
        "print('validation accuracy: %f' % (np.mean(y_val == y_val_pred), ))"
      ],
      "execution_count": null,
      "outputs": [
        {
          "output_type": "stream",
          "name": "stdout",
          "text": [
            "training accuracy: 0.374776\n",
            "validation accuracy: 0.386000\n"
          ]
        }
      ]
    },
    {
      "cell_type": "code",
      "metadata": {
        "id": "GAhbzTJiOMVu",
        "colab": {
          "base_uri": "https://localhost:8080/"
        },
        "outputId": "d5285ce3-9a91-41e2-9059-e991525e1678"
      },
      "source": [
        "# Use the validation set to tune hyperparameters (regularization strength and\n",
        "# learning rate). You should experiment with different ranges for the learning\n",
        "# rates and regularization strengths; if you are careful you should be able to\n",
        "# get a classification accuracy of about 0.4 on the validation set.\n",
        "learning_rates = [1e-6, 1e-7]\n",
        "regularization_strengths = [5e4, 1e5]\n",
        "\n",
        "# results is dictionary mapping tuples of the form\n",
        "# (learning_rate, regularization_strength) to tuples of the form\n",
        "# (training_accuracy, validation_accuracy). The accuracy is simply the fraction\n",
        "# of data points that are correctly classified.\n",
        "results = {}\n",
        "best_val = -1   # The highest validation accuracy that we have seen so far.\n",
        "best_svm = None # The LinearSVM object that achieved the highest validation rate.\n",
        "\n",
        "################################################################################\n",
        "# TODO:                                                                        #\n",
        "# Write code that chooses the best hyperparameters by tuning on the validation #\n",
        "# set. For each combination of hyperparameters, train a linear SVM on the      #\n",
        "# training set, compute its accuracy on the training and validation sets, and  #\n",
        "# store these numbers in the results dictionary. In addition, store the best   #\n",
        "# validation accuracy in best_val and the LinearSVM object that achieves this  #\n",
        "# accuracy in best_svm.                                                        #\n",
        "#                                                                              #\n",
        "# Hint: You should use a small value for num_iters as you develop your         #\n",
        "# validation code so that the SVMs don't take much time to train; once you are #\n",
        "# confident that your validation code works, you should rerun the validation   #\n",
        "# code with a larger value for num_iters.                                      #\n",
        "################################################################################\n",
        "for lr in learning_rates:\n",
        "    for reg in regularization_strengths:\n",
        "        classifier = SVM()\n",
        "        loss_record = classifier.train(X_train, y_train, \n",
        "                    learning_rate=lr, reg=reg, \n",
        "                    num_iters=1000, verbose=True)\n",
        "        y_train_hat = classifier.predict(X_train)\n",
        "        y_val_hat = classifier.predict(X_val)\n",
        "\n",
        "        if np.mean(y_val == y_val_hat) > best_val:\n",
        "            best_val = np.mean(y_val == y_val_hat)\n",
        "            best_svm = classifier\n",
        "            \n",
        "        results[(lr, reg)] = (np.mean(y_train == y_train_hat), np.mean(y_val == y_val_hat))\n",
        "        # print(len(results), results)\n",
        "################################################################################\n",
        "#                              END OF YOUR CODE                                #\n",
        "################################################################################\n",
        "    \n",
        "# Print out results.\n",
        "for lr, reg in sorted(results):\n",
        "    train_accuracy, val_accuracy = results[(lr, reg)]\n",
        "    print('lr %e reg %e train accuracy: %f val accuracy: %f' % (\n",
        "                lr, reg, train_accuracy, val_accuracy))\n",
        "    \n",
        "print('best validation accuracy achieved during cross-validation: %f' % best_val)"
      ],
      "execution_count": null,
      "outputs": [
        {
          "output_type": "stream",
          "name": "stdout",
          "text": [
            "iteration 0 / 1000: loss 787.998237\n",
            "iteration 100 / 1000: loss 6.856529\n",
            "iteration 200 / 1000: loss 7.351340\n",
            "iteration 300 / 1000: loss 7.602482\n",
            "iteration 400 / 1000: loss 6.669901\n",
            "iteration 500 / 1000: loss 6.420237\n",
            "iteration 600 / 1000: loss 6.504341\n",
            "iteration 700 / 1000: loss 8.140688\n",
            "iteration 800 / 1000: loss 6.097038\n",
            "iteration 900 / 1000: loss 6.713262\n",
            "iteration 0 / 1000: loss 1571.510099\n",
            "iteration 100 / 1000: loss 6.940521\n",
            "iteration 200 / 1000: loss 7.401649\n",
            "iteration 300 / 1000: loss 7.962462\n",
            "iteration 400 / 1000: loss 8.008303\n",
            "iteration 500 / 1000: loss 7.254327\n",
            "iteration 600 / 1000: loss 7.287270\n",
            "iteration 700 / 1000: loss 8.042531\n",
            "iteration 800 / 1000: loss 6.467744\n",
            "iteration 900 / 1000: loss 7.036458\n",
            "iteration 0 / 1000: loss 787.634885\n",
            "iteration 100 / 1000: loss 289.546018\n",
            "iteration 200 / 1000: loss 108.604699\n",
            "iteration 300 / 1000: loss 43.071051\n",
            "iteration 400 / 1000: loss 18.725368\n",
            "iteration 500 / 1000: loss 9.915475\n",
            "iteration 600 / 1000: loss 6.774685\n",
            "iteration 700 / 1000: loss 6.007643\n",
            "iteration 800 / 1000: loss 5.957131\n",
            "iteration 900 / 1000: loss 5.533053\n",
            "iteration 0 / 1000: loss 1572.543977\n",
            "iteration 100 / 1000: loss 212.734419\n",
            "iteration 200 / 1000: loss 33.425992\n",
            "iteration 300 / 1000: loss 9.255538\n",
            "iteration 400 / 1000: loss 6.257624\n",
            "iteration 500 / 1000: loss 5.642848\n",
            "iteration 600 / 1000: loss 5.651679\n",
            "iteration 700 / 1000: loss 5.457150\n",
            "iteration 800 / 1000: loss 5.881879\n",
            "iteration 900 / 1000: loss 5.334642\n",
            "lr 1.000000e-07 reg 5.000000e+04 train accuracy: 0.371571 val accuracy: 0.378000\n",
            "lr 1.000000e-07 reg 1.000000e+05 train accuracy: 0.358592 val accuracy: 0.365000\n",
            "lr 1.000000e-06 reg 5.000000e+04 train accuracy: 0.266306 val accuracy: 0.271000\n",
            "lr 1.000000e-06 reg 1.000000e+05 train accuracy: 0.269714 val accuracy: 0.268000\n",
            "best validation accuracy achieved during cross-validation: 0.378000\n"
          ]
        }
      ]
    },
    {
      "cell_type": "code",
      "metadata": {
        "id": "n7xztO16OMVx",
        "colab": {
          "base_uri": "https://localhost:8080/",
          "height": 316
        },
        "outputId": "a20f3a19-b402-44e0-86fb-c01214152935"
      },
      "source": [
        "# Visualize the cross-validation results\n",
        "import math\n",
        "x_scatter = [math.log10(x[0]) for x in results]\n",
        "y_scatter = [math.log10(x[1]) for x in results]\n",
        "\n",
        "# plot training accuracy\n",
        "marker_size = 100\n",
        "colors = [results[x][0] for x in results]\n",
        "plt.subplot(2, 1, 1)\n",
        "plt.scatter(x_scatter, y_scatter, marker_size, c=colors)\n",
        "plt.colorbar()\n",
        "plt.xlabel('log learning rate')\n",
        "plt.ylabel('log regularization strength')\n",
        "plt.title('CIFAR-10 training accuracy')\n",
        "\n",
        "# plot validation accuracy\n",
        "colors = [results[x][1] for x in results] # default size of markers is 20\n",
        "plt.subplot(2, 1, 2)\n",
        "plt.scatter(x_scatter, y_scatter, marker_size, c=colors)\n",
        "plt.colorbar()\n",
        "plt.xlabel('log learning rate')\n",
        "plt.ylabel('log regularization strength')\n",
        "plt.title('CIFAR-10 validation accuracy')\n",
        "plt.show()"
      ],
      "execution_count": null,
      "outputs": [
        {
          "output_type": "display_data",
          "data": {
            "image/png": "[encoded data removed]",
            "text/plain": [
              "<Figure size 432x288 with 4 Axes>"
            ]
          },
          "metadata": {
            "needs_background": "light"
          }
        }
      ]
    },
    {
      "cell_type": "code",
      "metadata": {
        "id": "z4dGOPlDOMV0",
        "colab": {
          "base_uri": "https://localhost:8080/"
        },
        "outputId": "2eb207bc-3d6e-4239-cfb8-54776fc0066b"
      },
      "source": [
        "# Evaluate the best svm on test set\n",
        "y_test_pred = best_svm.predict(X_test)\n",
        "test_accuracy = np.mean(y_test == y_test_pred)\n",
        "print('linear SVM on raw pixels final test set accuracy: %f' % test_accuracy)"
      ],
      "execution_count": null,
      "outputs": [
        {
          "output_type": "stream",
          "name": "stdout",
          "text": [
            "linear SVM on raw pixels final test set accuracy: 0.360000\n"
          ]
        }
      ]
    },
    {
      "cell_type": "code",
      "metadata": {
        "id": "EWlGgq8tOMV2",
        "colab": {
          "base_uri": "https://localhost:8080/",
          "height": 223
        },
        "outputId": "17ee3288-14c5-4663-e111-f86e7b15c869"
      },
      "source": [
        "# Visualize the learned weights for each class.\n",
        "# Depending on your choice of learning rate and regularization strength, these may\n",
        "# or may not be nice to look at.\n",
        "w = best_svm.W[:-1,:] # strip out the bias\n",
        "w = w.reshape(32, 32, 3, 10)\n",
        "w_min, w_max = np.min(w), np.max(w)\n",
        "classes = ['plane', 'car', 'bird', 'cat', 'deer', 'dog', 'frog', 'horse', 'ship', 'truck']\n",
        "for i in range(10):\n",
        "    plt.subplot(2, 5, i + 1)\n",
        "      \n",
        "    # Rescale the weights to be between 0 and 255\n",
        "    wimg = 255.0 * (w[:, :, :, i].squeeze() - w_min) / (w_max - w_min)\n",
        "    plt.imshow(wimg.astype('uint8'))\n",
        "    plt.axis('off')\n",
        "    plt.title(classes[i])"
      ],
      "execution_count": null,
      "outputs": [
        {
          "output_type": "display_data",
          "data": {
            "image/png": "[encoded data removed]",
            "text/plain": [
              "<Figure size 432x288 with 10 Axes>"
            ]
          },
          "metadata": {
            "needs_background": "light"
          }
        }
      ]
    },
    {
      "cell_type": "markdown",
      "metadata": {
        "id": "ap5rrJ5sOMV7"
      },
      "source": [
        "### Inline question 2:\n",
        "Describe what your visualized SVM weights look like, and offer a brief explanation for why they look they way that they do.\n",
        "\n",
        "**Your answer:** *fill this in*"
      ]
    },
    {
      "cell_type": "markdown",
      "metadata": {
        "id": "Ui5JMS-OfMOb"
      },
      "source": [
        "*Many thanks to Stanford CS231n for permission to use their materials!*"
      ]
    }
  ]
}
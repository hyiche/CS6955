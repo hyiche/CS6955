{
  "nbformat": 4,
  "nbformat_minor": 0,
  "metadata": {
    "colab": {
      "name": "homework1_softmax.ipynb",
      "provenance": [],
      "collapsed_sections": []
    },
    "kernelspec": {
      "display_name": "Python 3",
      "language": "python",
      "name": "python3"
    }
  },
  "cells": [
    {
      "cell_type": "markdown",
      "metadata": {
        "id": "qcUwZ2kYYV-q"
      },
      "source": [
        "# Homework 1: Classifiers\n"
      ]
    },
    {
      "cell_type": "markdown",
      "metadata": {
        "id": "i2fakcGhJ08N"
      },
      "source": [
        "# Linear Softmax Classifier\n",
        "\n",
        "This exercise is analogous to the SVM exercise. You will:\n",
        "\n",
        "- implement a fully-vectorized **loss function** for the Softmax classifier\n",
        "- implement the fully-vectorized expression for its **analytic gradient**\n",
        "- **check your implementation** with numerical gradient\n",
        "- use a validation set to **tune the learning rate and regularization** strength\n",
        "- **optimize** the loss function with **SGD**\n",
        "- **visualize** the final learned weights\n"
      ]
    },
    {
      "cell_type": "code",
      "metadata": {
        "id": "Z3CGTpwFJ08P"
      },
      "source": [
        "import numpy as np\n",
        "import matplotlib.pyplot as plt\n",
        "import seaborn as sns\n",
        "\n",
        "sns.set()"
      ],
      "execution_count": null,
      "outputs": []
    },
    {
      "cell_type": "markdown",
      "metadata": {
        "id": "AGrRij4Tqdxf"
      },
      "source": [
        "## Load and preprocess CIFAR-10 dataset"
      ]
    },
    {
      "cell_type": "code",
      "metadata": {
        "id": "EpJ-YmcDJ08S",
        "colab": {
          "base_uri": "https://localhost:8080/"
        },
        "outputId": "c854a58a-9306-456a-9807-1870410cb6a2"
      },
      "source": [
        "from keras.datasets import cifar10\n",
        "\n",
        "def get_CIFAR10_data(num_training=49000, num_validation=1000,\n",
        "                     num_test=1000, num_dev=500):\n",
        "    \"\"\"\n",
        "    Load the CIFAR-10 dataset from disk and perform preprocessing to prepare\n",
        "    it for the linear classifier. These are the same steps as we used for the\n",
        "    SVM, but condensed to a single function.  \n",
        "    \"\"\"\n",
        "    # Load the raw CIFAR-10 data\n",
        "    (X_train, y_train), (X_test, y_test) = cifar10.load_data()\n",
        "    # print(X_train.shape, y_train.shape, X_test.shape, y_test.shape)\n",
        "    \n",
        "    # All the data comes in the uint8 format, so we need to convert\n",
        "    # it to floats so that we compute numbers greater than 255.\n",
        "    X_train = X_train.astype(np.float)\n",
        "    X_test = X_test.astype(np.float)\n",
        "    # Also, for convenience we flatten the class arrays.\n",
        "    y_train = y_train.flatten()\n",
        "    y_test = y_test.flatten()\n",
        "    # print(X_train.shape, y_train.shape, X_test.shape, y_test.shape)\n",
        "    \n",
        "    # # Split the data into train, val, and test sets. In addition we will\n",
        "    # # create a small development set as a subset of the training data;\n",
        "    # # we can use this for development so our code runs faster.\n",
        "    \n",
        "    # # Our validation set will be num_validation points from the original\n",
        "    # # training set.\n",
        "    mask = list(range(num_training, num_training + num_validation))  # 49000~49999(total 1000)\n",
        "    X_val = X_train[mask]\n",
        "    y_val = y_train[mask]\n",
        "    \n",
        "    # # Our training set will be the first num_train points from the original\n",
        "    # # training set.\n",
        "    mask = list(range(num_training))  # 0~48999(total 49000)\n",
        "    X_train = X_train[mask]\n",
        "    y_train = y_train[mask]\n",
        "    \n",
        "    # # We will also make a development set, which is a small subset of\n",
        "    # # the training set.\n",
        "\n",
        "    # equivalent to np.random.permutation(np.arange(49000))[:500]\n",
        "    mask = np.random.choice(num_training, num_dev, replace=False)  # 49000, 500\n",
        "    X_dev = X_train[mask]\n",
        "    y_dev = y_train[mask]\n",
        "    \n",
        "    # # We use the first num_test points of the original test set as our\n",
        "    # # test set.\n",
        "    mask = list(range(num_test))  # 0~1000\n",
        "    X_test = X_test[mask]\n",
        "    y_test = y_test[mask]\n",
        "    \n",
        "    # # Preprocessing: reshape the image data into rows\n",
        "    # print()\n",
        "    # print(X_train.shape, X_val.shape, X_test.shape, X_dev.shape)\n",
        "    X_train = np.reshape(X_train, (X_train.shape[0], -1))\n",
        "    X_val = np.reshape(X_val, (X_val.shape[0], -1))\n",
        "    X_test = np.reshape(X_test, (X_test.shape[0], -1))\n",
        "    X_dev = np.reshape(X_dev, (X_dev.shape[0], -1))\n",
        "    # print(X_train.shape, X_val.shape, X_test.shape, X_dev.shape)\n",
        "    \n",
        "    # # Normalize the data: subtract the mean image\n",
        "    mean_image = np.mean(X_train, axis = 0)\n",
        "    X_train -= mean_image\n",
        "    X_val -= mean_image\n",
        "    X_test -= mean_image\n",
        "    X_dev -= mean_image\n",
        "    \n",
        "    # # third: append the bias dimension of ones (i.e. bias trick) so that our SVM\n",
        "    # # only has to worry about optimizing a single weight matrix W.\n",
        "    X_train = np.hstack([X_train, np.ones((X_train.shape[0], 1))])\n",
        "    X_val = np.hstack([X_val, np.ones((X_val.shape[0], 1))])\n",
        "    X_test = np.hstack([X_test, np.ones((X_test.shape[0], 1))])\n",
        "    X_dev = np.hstack([X_dev, np.ones((X_dev.shape[0], 1))])\n",
        "    # print(X_train.shape, X_val.shape, X_test.shape, X_dev.shape)\n",
        "    # print()\n",
        "    # print(X_train[:5])\n",
        "    \n",
        "    return X_train, y_train, X_val, y_val, X_test, y_test, X_dev, y_dev\n",
        "\n",
        "\n",
        "# Invoke the above function to get our data.\n",
        "X_train, y_train, X_val, y_val, X_test, y_test, X_dev, y_dev = get_CIFAR10_data()\n",
        "print('Train data shape: ', X_train.shape)\n",
        "print('Train labels shape: ', y_train.shape)\n",
        "print('Validation data shape: ', X_val.shape)\n",
        "print('Validation labels shape: ', y_val.shape)\n",
        "print('Test data shape: ', X_test.shape)\n",
        "print('Test labels shape: ', y_test.shape)\n",
        "print('dev data shape: ', X_dev.shape)\n",
        "print('dev labels shape: ', y_dev.shape)"
      ],
      "execution_count": null,
      "outputs": [
        {
          "output_type": "stream",
          "name": "stdout",
          "text": [
            "Downloading data from https://www.cs.toronto.edu/~kriz/cifar-10-python.tar.gz\n",
            "170500096/170498071 [==============================] - 2s 0us/step\n",
            "170508288/170498071 [==============================] - 2s 0us/step\n",
            "Train data shape:  (49000, 3073)\n",
            "Train labels shape:  (49000,)\n",
            "Validation data shape:  (1000, 3073)\n",
            "Validation labels shape:  (1000,)\n",
            "Test data shape:  (1000, 3073)\n",
            "Test labels shape:  (1000,)\n",
            "dev data shape:  (500, 3073)\n",
            "dev labels shape:  (500,)\n"
          ]
        }
      ]
    },
    {
      "cell_type": "markdown",
      "metadata": {
        "id": "1YqRGKxjJ08V"
      },
      "source": [
        "## Define a naive Softmax classifier loss function\n",
        "\n",
        "Next we define the Softmax loss function.  This will be a naive implementation using loops.  Most of the code for this loss function already exists, but you will need to write code of your own to finish it.  Follow the instructions in the TODO section.\n",
        "\n",
        "Recall that the contribution of a training point $(x_i, y_i)$ to the Softmax loss function is\n",
        "\n",
        "$$L_i = -\\log \\left( \\frac{\\exp(s_{y_i})}{\\sum_{j} \\exp(s_j)} \\right) = \\log \\left( {\\sum_{j} \\exp(s_j)} \\right)-s_{y_i}$$\n",
        "\n",
        "This is the cross-entropy between the predicted class probabilities, and the distribution with all probability concentrated at $y_i$.  The score $s$ is again parametrized by a linear function $s_j = xW_j$ where $x$ is a single data sample and $W_j$ is the $j$th column of $W$."
      ]
    },
    {
      "cell_type": "code",
      "metadata": {
        "id": "HNzBpdmbY67R"
      },
      "source": [
        "def softmax_loss_naive(W, X, y, reg):\n",
        "    \"\"\"\n",
        "    Softmax loss function, naive implementation (with loops)\n",
        "\n",
        "    Inputs have dimension D, there are C classes, and we operate on minibatches\n",
        "    of N examples.\n",
        "\n",
        "    Inputs:\n",
        "    - W: A numpy array of shape (D, C) containing weights.\n",
        "    - X: A numpy array of shape (N, D) containing a minibatch of data.\n",
        "    - y: A numpy array of shape (N,) containing training labels; y[i] = c means\n",
        "    that X[i] has label c, where 0 <= c < C.\n",
        "    - reg: (float) regularization strength\n",
        "\n",
        "    Returns a tuple of:\n",
        "    - loss as single float\n",
        "    - gradient with respect to weights W; an array of same shape as W\n",
        "    \"\"\"\n",
        "    # Initialize the loss and gradient to zero.\n",
        "    loss = 0.0\n",
        "    dW = np.zeros_like(W)\n",
        "    # print(dW.shape)\n",
        "    # print(W.shape)\n",
        "    # print(X.shape)\n",
        "    # print(y.shape)\n",
        "\n",
        "    #############################################################################\n",
        "    # TODO: Compute the softmax loss and its gradient using explicit loops.     #\n",
        "    # Store the loss in loss and the gradient in dW. If you are not careful     #\n",
        "    # here, it is easy to run into numeric instability. Don't forget the        #\n",
        "    # regularization!                                                           #\n",
        "    #############################################################################\n",
        "    # n is the number of samples, k is the number of classes.\n",
        "    n, k = X.shape[0], W.shape[1]  \n",
        "    for i in range(n):\n",
        "        for j in range(k):\n",
        "            logit = np.dot(X[i], W)\n",
        "            logit -= np.max(logit)\n",
        "            # print(logit.shape)\n",
        "            s = sum(np.exp(logit))\n",
        "            # print(softmax)\n",
        "            # print(softmax[j])\n",
        "            # print(sum(softmax))\n",
        "            # print(sdfghjk)\n",
        "            loss += int(y[i]==j) * (np.log(s)-logit[j])\n",
        "            dW[:, j] += X[i] * (np.exp(logit[j])/s - int(y[i]==j))\n",
        "            # print('here', dW[:, j].shape, (softmax[j]*X[i]).shape)\n",
        "            # print(sdfghj)\n",
        "            \n",
        "    # add regularization\n",
        "    loss = loss / n + 0.5 * reg * np.sum(W * W)\n",
        "    dW = dW / n + reg * W\n",
        "    #############################################################################\n",
        "    #                          END OF YOUR CODE                                 #\n",
        "    #############################################################################\n",
        "    return loss, dW"
      ],
      "execution_count": null,
      "outputs": []
    },
    {
      "cell_type": "code",
      "metadata": {
        "id": "IJPp2yuBJ08W",
        "colab": {
          "base_uri": "https://localhost:8080/"
        },
        "outputId": "3d5bafe6-54d5-4300-d529-c32a386aa841"
      },
      "source": [
        "# Evaluate the naive implementation of the loss we provided for you:\n",
        "import time\n",
        "\n",
        "# Generate a random softmax weight matrix and use it to compute the loss.\n",
        "W = np.random.randn(3073, 10) * 0.0001\n",
        "loss, grad = softmax_loss_naive(W, X_dev, y_dev, 0.0)\n",
        "\n",
        "# As a rough sanity check, our loss should be something close to -log(0.1).\n",
        "print('loss: %f' % loss)\n",
        "print('sanity check: %f' % (-np.log(0.1)))"
      ],
      "execution_count": null,
      "outputs": [
        {
          "output_type": "stream",
          "name": "stdout",
          "text": [
            "loss: 2.382162\n",
            "sanity check: 2.302585\n"
          ]
        }
      ]
    },
    {
      "cell_type": "markdown",
      "metadata": {
        "id": "OSZOfaTpJ08Z"
      },
      "source": [
        "## Inline Question 1:\n",
        "Why do we expect our loss to be close to -log(0.1)? Explain briefly.\n",
        "\n",
        "**Your answer:** *Fill this in*\n"
      ]
    },
    {
      "cell_type": "code",
      "metadata": {
        "id": "vaIHaDRiZTP0",
        "colab": {
          "base_uri": "https://localhost:8080/"
        },
        "outputId": "ddd69766-608a-42d4-a82b-f47872c127d8"
      },
      "source": [
        "def grad_check_sparse(f, x, analytic_grad, num_checks=10, h=1e-5):\n",
        "    \"\"\"\n",
        "    sample a few random elements and only return numerical\n",
        "    in this dimensions.\n",
        "    \"\"\"\n",
        "\n",
        "    for i in range(num_checks):\n",
        "        ix = tuple([np.random.randint(m) for m in x.shape])\n",
        "\n",
        "        oldval = x[ix]\n",
        "        x[ix] = oldval + h # increment by h\n",
        "        fxph = f(x) # evaluate f(x + h)\n",
        "        x[ix] = oldval - h # increment by h\n",
        "        fxmh = f(x) # evaluate f(x - h)\n",
        "        x[ix] = oldval # reset\n",
        "\n",
        "        grad_numerical = (fxph - fxmh) / (2 * h)\n",
        "        grad_analytic = analytic_grad[ix]\n",
        "        rel_error = abs(grad_numerical - grad_analytic) / (abs(grad_numerical) + abs(grad_analytic))\n",
        "        print('numerical: %f analytic: %f, relative error: %e' % (grad_numerical, grad_analytic, rel_error))\n",
        "    \n",
        "# Complete the implementation of softmax_loss_naive and implement a (naive)\n",
        "# version of the gradient that uses nested loops.\n",
        "loss, grad = softmax_loss_naive(W, X_dev, y_dev, 0.0)\n",
        "\n",
        "# As we did for the SVM, use numeric gradient checking as a debugging tool.\n",
        "# The numeric gradient should be close to the analytic gradient.\n",
        "f = lambda w: softmax_loss_naive(w, X_dev, y_dev, 0.0)[0]\n",
        "grad_numerical = grad_check_sparse(f, W, grad, 10)\n",
        "\n",
        "# similar to SVM case, do another gradient check with regularization\n",
        "loss, grad = softmax_loss_naive(W, X_dev, y_dev, 5e1)\n",
        "f = lambda w: softmax_loss_naive(w, X_dev, y_dev, 5e1)[0]\n",
        "grad_numerical = grad_check_sparse(f, W, grad, 10)"
      ],
      "execution_count": null,
      "outputs": [
        {
          "output_type": "stream",
          "name": "stdout",
          "text": [
            "numerical: 2.169709 analytic: 2.169709, relative error: 2.327980e-08\n",
            "numerical: -0.328164 analytic: -0.328164, relative error: 2.227313e-07\n",
            "numerical: -1.733892 analytic: -1.733892, relative error: 1.863405e-08\n",
            "numerical: 2.116874 analytic: 2.116874, relative error: 3.577294e-09\n",
            "numerical: 0.878519 analytic: 0.878519, relative error: 7.395366e-08\n",
            "numerical: 0.191263 analytic: 0.191262, relative error: 1.760040e-07\n",
            "numerical: 1.236772 analytic: 1.236772, relative error: 2.354883e-08\n",
            "numerical: 1.557530 analytic: 1.557530, relative error: 3.566605e-08\n",
            "numerical: 1.039594 analytic: 1.039594, relative error: 1.986955e-08\n",
            "numerical: -0.958055 analytic: -0.958056, relative error: 4.369456e-08\n",
            "numerical: 0.905420 analytic: 0.905420, relative error: 4.843884e-08\n",
            "numerical: -1.878834 analytic: -1.878835, relative error: 4.123678e-08\n",
            "numerical: 0.852154 analytic: 0.852154, relative error: 1.489148e-07\n",
            "numerical: 0.912481 analytic: 0.912481, relative error: 3.198778e-08\n",
            "numerical: -0.829202 analytic: -0.829202, relative error: 1.179070e-08\n",
            "numerical: -1.632777 analytic: -1.632777, relative error: 2.390101e-08\n",
            "numerical: 1.891888 analytic: 1.891888, relative error: 4.414138e-08\n",
            "numerical: -1.132960 analytic: -1.132960, relative error: 1.507485e-08\n",
            "numerical: 0.664478 analytic: 0.664478, relative error: 5.004812e-09\n",
            "numerical: -1.558550 analytic: -1.558550, relative error: 4.535951e-08\n"
          ]
        }
      ]
    },
    {
      "cell_type": "markdown",
      "metadata": {
        "id": "AW-ddDOCsXMW"
      },
      "source": [
        "## Define a vectorized Softmax classifier loss function\n",
        "\n",
        "Next we define the vectorized (i.e. no loops) version of the Softmax loss function.  Most of the code for this loss function already exists, but you will need to write code of your own to finish it.  Follow the instructions in the TODO section."
      ]
    },
    {
      "cell_type": "code",
      "metadata": {
        "id": "D2HDgzaMZfRV"
      },
      "source": [
        "def softmax_loss_vectorized(W, X, y, reg):\n",
        "    \"\"\"\n",
        "    Softmax loss function, vectorized version.\n",
        "\n",
        "    Inputs and outputs are the same as softmax_loss_naive.\n",
        "    \"\"\"\n",
        "    # Initialize the loss and gradient to zero.\n",
        "    loss = 0.0\n",
        "    dW = np.zeros_like(W)\n",
        "\n",
        "    #############################################################################\n",
        "    # TODO: Compute the softmax loss and its gradient using no explicit loops.  #\n",
        "    # Store the loss in loss and the gradient in dW. If you are not careful     #\n",
        "    # here, it is easy to run into numeric instability. Don't forget the        #\n",
        "    # regularization!                                                           #\n",
        "    #############################################################################\n",
        "    n = X.shape[0]  \n",
        "    logit = np.dot(X, W)\n",
        "    logit -= logit.max(axis=1).reshape(n, 1)\n",
        "    # print(logit.shape)\n",
        "    s = np.exp(logit).sum(axis=1)\n",
        "    # print(s.shape)\n",
        "    # print(logit[range(n), y].shape)\n",
        "    loss = sum(np.log(s)) - sum(logit[range(n), y])\n",
        "    softmax = np.exp(logit) / s.reshape(n, 1)\n",
        "    softmax[range(n), y] -= 1\n",
        "    dW = np.dot(X.T, softmax)\n",
        "\n",
        "    # add regularization\n",
        "    loss = loss / n + 0.5 * reg * np.sum(W * W)\n",
        "    dW = dW / n + reg * W\n",
        "    #############################################################################\n",
        "    #                          END OF YOUR CODE                                 #\n",
        "    #############################################################################\n",
        "    \n",
        "    return loss, dW"
      ],
      "execution_count": null,
      "outputs": []
    },
    {
      "cell_type": "code",
      "metadata": {
        "id": "qSxdTSBPJ08d",
        "colab": {
          "base_uri": "https://localhost:8080/"
        },
        "outputId": "54a3851c-ed23-46cd-c5be-bb89a5d64de1"
      },
      "source": [
        "# Evaluate the naive implementation of the Softmax gradients\n",
        "\n",
        "# The naive implementation and the vectorized implementation should match, but\n",
        "# the vectorized version should still be much faster.\n",
        "tic = time.time()\n",
        "loss_naive, grad_naive = softmax_loss_naive(W, X_dev, y_dev, 0.000005)\n",
        "toc = time.time()\n",
        "print('naive loss: %e computed in %fs' % (loss_naive, toc - tic))\n",
        "\n",
        "tic = time.time()\n",
        "loss_vectorized, grad_vectorized = softmax_loss_vectorized(W, X_dev, y_dev, 0.000005)\n",
        "toc = time.time()\n",
        "print('vectorized loss: %e computed in %fs' % (loss_vectorized, toc - tic))\n",
        "\n",
        "# As we did for the SVM, we use the Frobenius norm to compare the two versions\n",
        "# of the gradient.\n",
        "grad_difference = np.linalg.norm(grad_naive - grad_vectorized, ord='fro')\n",
        "print('Loss difference: %f' % np.abs(loss_naive - loss_vectorized))\n",
        "print('Gradient difference: %f' % grad_difference)"
      ],
      "execution_count": null,
      "outputs": [
        {
          "output_type": "stream",
          "name": "stdout",
          "text": [
            "naive loss: 2.382162e+00 computed in 0.478123s\n",
            "vectorized loss: 2.382162e+00 computed in 0.017847s\n",
            "Loss difference: 0.000000\n",
            "Gradient difference: 0.000000\n"
          ]
        }
      ]
    },
    {
      "cell_type": "markdown",
      "metadata": {
        "id": "c6zzNjOgtYDq"
      },
      "source": [
        "## Stochastic Gradient Descent\n",
        "\n",
        "We now have vectorized and efficient expressions for the loss, the gradient and our gradient matches the numerical gradient. We are therefore ready to do SGD to minimize the loss. Follow the instructions in the TODO sections below.  You may just want to copy the code you wrote for the SVM."
      ]
    },
    {
      "cell_type": "code",
      "metadata": {
        "id": "FRZYRkF7ZzE0"
      },
      "source": [
        "class Softmax(object):\n",
        "    def __init__(self):\n",
        "        self.W = None\n",
        "    \n",
        "    def train(self, X, y, learning_rate=1e-3, reg=1e-5, num_iters=100,\n",
        "            batch_size=200, verbose=False):\n",
        "        \"\"\"\n",
        "        Train this linear classifier using stochastic gradient descent.\n",
        "\n",
        "        Inputs:\n",
        "        - X: A numpy array of shape (N, D) containing training data; there are N\n",
        "            training samples each of dimension D.\n",
        "        - y: A numpy array of shape (N,) containing training labels; y[i] = c\n",
        "            means that X[i] has label 0 <= c < C for C classes.\n",
        "        - learning_rate: (float) learning rate for optimization.\n",
        "        - reg: (float) regularization strength.\n",
        "        - num_iters: (integer) number of steps to take when optimizing\n",
        "        - batch_size: (integer) number of training examples to use at each step.\n",
        "        - verbose: (boolean) If true, print progress during optimization.\n",
        "\n",
        "        Outputs:\n",
        "        A list containing the value of the loss function at each training iteration.\n",
        "        \"\"\"\n",
        "        num_train, dim = X.shape\n",
        "        num_classes = np.max(y) + 1 # assume y takes values 0...K-1 where K is number of classes\n",
        "        if self.W is None:\n",
        "            # lazily initialize W\n",
        "            self.W = 0.001 * np.random.randn(dim, num_classes)\n",
        "\n",
        "        # Run stochastic gradient descent to optimize W\n",
        "        loss_history = []\n",
        "        for it in range(num_iters):\n",
        "            X_batch = None\n",
        "            y_batch = None\n",
        "\n",
        "            #########################################################################\n",
        "            # TODO:                                                                 #\n",
        "            # Sample batch_size elements from the training data and their           #\n",
        "            # corresponding labels to use in this round of gradient descent.        #\n",
        "            # Store the data in X_batch and their corresponding labels in           #\n",
        "            # y_batch; after sampling X_batch should have shape (dim, batch_size)   #\n",
        "            # and y_batch should have shape (batch_size,)                           #\n",
        "            #                                                                       #\n",
        "            # Hint: Use np.random.choice to generate indices. Sampling with         #\n",
        "            # replacement is faster than sampling without replacement.              #\n",
        "            #########################################################################\n",
        "            indices = np.random.choice(a=num_train, size=batch_size, replace=True)\n",
        "            X_batch = X[indices]\n",
        "            y_batch = y[indices]\n",
        "            # print('X_batch.shape', X_batch.shape)\n",
        "            # print('y_batch.shape', y_batch.shape)\n",
        "            #########################################################################\n",
        "            #                       END OF YOUR CODE                                #\n",
        "            #########################################################################\n",
        "\n",
        "            # evaluate loss and gradient\n",
        "            loss, grad = self.loss(X_batch, y_batch, reg)\n",
        "            loss_history.append(loss)\n",
        "\n",
        "            # perform parameter update\n",
        "            #########################################################################\n",
        "            # TODO:                                                                 #\n",
        "            # Update the weights using the gradient and the learning rate.          #\n",
        "            #########################################################################\n",
        "            self.W -= learning_rate * grad\n",
        "            #########################################################################\n",
        "            #                       END OF YOUR CODE                                #\n",
        "            #########################################################################\n",
        "\n",
        "            if verbose and it % 100 == 0:\n",
        "                print('iteration %d / %d: loss %f' % (it, num_iters, loss))\n",
        "        \n",
        "        return loss_history\n",
        "    \n",
        "    def predict(self, X):\n",
        "        \"\"\"\n",
        "        Use the trained weights of this linear classifier to predict labels for\n",
        "        data points.\n",
        "\n",
        "        Inputs:\n",
        "        - X: A numpy array of shape (N, D) containing training data; there are N\n",
        "        training samples each of dimension D.\n",
        "\n",
        "        Returns:\n",
        "        - y_pred: Predicted labels for the data in X. y_pred is a 1-dimensional\n",
        "        array of length N, and each element is an integer giving the predicted\n",
        "        class.\n",
        "        \"\"\"\n",
        "        y_pred = np.zeros(X.shape[0])\n",
        "        ###########################################################################\n",
        "        # TODO:                                                                   #\n",
        "        # Implement this method. Store the predicted labels in y_pred.            #\n",
        "        ###########################################################################\n",
        "        logit = np.dot(X, self.W)\n",
        "        y_pred = np.argmax(logit, axis=1)\n",
        "        ###########################################################################\n",
        "        #                           END OF YOUR CODE                              #\n",
        "        ###########################################################################\n",
        "        return y_pred\n",
        "    \n",
        "    def loss(self, X_batch, y_batch, reg):\n",
        "        \"\"\"\n",
        "        Compute the loss function and its derivative. \n",
        "        Subclasses will override this.\n",
        "\n",
        "        Inputs:\n",
        "        - X_batch: A numpy array of shape (N, D) containing a minibatch of N\n",
        "            data points; each point has dimension D.\n",
        "        - y_batch: A numpy array of shape (N,) containing labels for the minibatch.\n",
        "        - reg: (float) regularization strength.\n",
        "\n",
        "        Returns: A tuple containing:\n",
        "        - loss as a single float\n",
        "        - gradient with respect to self.W; an array of the same shape as W\n",
        "        \"\"\"\n",
        "        return softmax_loss_vectorized(self.W, X_batch, y_batch, reg)"
      ],
      "execution_count": null,
      "outputs": []
    },
    {
      "cell_type": "code",
      "metadata": {
        "id": "KOKw3bKKJ08f",
        "colab": {
          "base_uri": "https://localhost:8080/"
        },
        "outputId": "fcf4fb85-1eef-4e0d-e638-d044cce46620"
      },
      "source": [
        "# Use the validation set to tune hyperparameters (regularization strength and\n",
        "# learning rate). You should experiment with different ranges for the learning\n",
        "# rates and regularization strengths; if you are careful you should be able to\n",
        "# get a classification accuracy of over 0.35 on the validation set.\n",
        "results = {}\n",
        "best_val = -1\n",
        "best_softmax = None\n",
        "learning_rates = [1e-7, 5e-7]\n",
        "regularization_strengths = [2.5e4, 5e4]\n",
        "\n",
        "################################################################################\n",
        "# TODO:                                                                        #\n",
        "# Use the validation set to set the learning rate and regularization strength. #\n",
        "# This should be identical to the validation that you did for the SVM; save    #\n",
        "# the best trained softmax classifer in best_softmax.                          #\n",
        "################################################################################\n",
        "for lr in learning_rates:\n",
        "    for reg in regularization_strengths:\n",
        "        classifier = Softmax()\n",
        "        loss_record = classifier.train(X_train, y_train, \n",
        "                    learning_rate=lr, reg=reg, \n",
        "                    num_iters=1000, verbose=True)\n",
        "        y_train_hat = classifier.predict(X_train)\n",
        "        y_val_hat = classifier.predict(X_val)\n",
        "\n",
        "        if np.mean(y_val == y_val_hat) > best_val:\n",
        "            best_val = np.mean(y_val == y_val_hat)\n",
        "            best_softmax = classifier\n",
        "            \n",
        "        results[(lr, reg)] = (np.mean(y_train == y_train_hat), np.mean(y_val == y_val_hat))\n",
        "        # print(len(results), results)\n",
        "\n",
        "################################################################################\n",
        "#                              END OF YOUR CODE                                #\n",
        "################################################################################\n",
        "    \n",
        "# Print out results.\n",
        "for lr, reg in sorted(results):\n",
        "    train_accuracy, val_accuracy = results[(lr, reg)]\n",
        "    print('lr %e reg %e train accuracy: %f val accuracy: %f' % (\n",
        "                lr, reg, train_accuracy, val_accuracy))\n",
        "    \n",
        "print('best validation accuracy achieved during cross-validation: %f' % best_val)"
      ],
      "execution_count": null,
      "outputs": [
        {
          "output_type": "stream",
          "name": "stdout",
          "text": [
            "iteration 0 / 1000: loss 388.527142\n",
            "iteration 100 / 1000: loss 235.128589\n",
            "iteration 200 / 1000: loss 143.046080\n",
            "iteration 300 / 1000: loss 87.235852\n",
            "iteration 400 / 1000: loss 53.674269\n",
            "iteration 500 / 1000: loss 33.229242\n",
            "iteration 600 / 1000: loss 20.772408\n",
            "iteration 700 / 1000: loss 13.366945\n",
            "iteration 800 / 1000: loss 8.849381\n",
            "iteration 900 / 1000: loss 6.195082\n",
            "iteration 0 / 1000: loss 766.293861\n",
            "iteration 100 / 1000: loss 281.526772\n",
            "iteration 200 / 1000: loss 104.464752\n",
            "iteration 300 / 1000: loss 39.493778\n",
            "iteration 400 / 1000: loss 15.773514\n",
            "iteration 500 / 1000: loss 7.160690\n",
            "iteration 600 / 1000: loss 3.972997\n",
            "iteration 700 / 1000: loss 2.668589\n",
            "iteration 800 / 1000: loss 2.396589\n",
            "iteration 900 / 1000: loss 2.235025\n",
            "iteration 0 / 1000: loss 386.235087\n",
            "iteration 100 / 1000: loss 32.542418\n",
            "iteration 200 / 1000: loss 4.467566\n",
            "iteration 300 / 1000: loss 2.165267\n",
            "iteration 400 / 1000: loss 2.004657\n",
            "iteration 500 / 1000: loss 1.981396\n",
            "iteration 600 / 1000: loss 2.006040\n",
            "iteration 700 / 1000: loss 2.017920\n",
            "iteration 800 / 1000: loss 2.000026\n",
            "iteration 900 / 1000: loss 2.062656\n",
            "iteration 0 / 1000: loss 777.533229\n",
            "iteration 100 / 1000: loss 6.931749\n",
            "iteration 200 / 1000: loss 2.070521\n",
            "iteration 300 / 1000: loss 2.016522\n",
            "iteration 400 / 1000: loss 2.076273\n",
            "iteration 500 / 1000: loss 2.087163\n",
            "iteration 600 / 1000: loss 2.076830\n",
            "iteration 700 / 1000: loss 2.130199\n",
            "iteration 800 / 1000: loss 2.052192\n",
            "iteration 900 / 1000: loss 2.064035\n",
            "lr 1.000000e-07 reg 2.500000e+04 train accuracy: 0.338286 val accuracy: 0.350000\n",
            "lr 1.000000e-07 reg 5.000000e+04 train accuracy: 0.324347 val accuracy: 0.333000\n",
            "lr 5.000000e-07 reg 2.500000e+04 train accuracy: 0.342755 val accuracy: 0.357000\n",
            "lr 5.000000e-07 reg 5.000000e+04 train accuracy: 0.318776 val accuracy: 0.334000\n",
            "best validation accuracy achieved during cross-validation: 0.357000\n"
          ]
        }
      ]
    },
    {
      "cell_type": "code",
      "metadata": {
        "id": "rY18wElRJ08i",
        "colab": {
          "base_uri": "https://localhost:8080/"
        },
        "outputId": "ddc3d1d0-69a8-46c7-a081-a597562d1bf9"
      },
      "source": [
        "# evaluate on test set\n",
        "# Evaluate the best softmax on test set\n",
        "y_test_pred = best_softmax.predict(X_test)\n",
        "test_accuracy = np.mean(y_test == y_test_pred)\n",
        "print('softmax on raw pixels final test set accuracy: %f' % (test_accuracy, ))"
      ],
      "execution_count": null,
      "outputs": [
        {
          "output_type": "stream",
          "name": "stdout",
          "text": [
            "softmax on raw pixels final test set accuracy: 0.358000\n"
          ]
        }
      ]
    },
    {
      "cell_type": "code",
      "metadata": {
        "id": "-iwERfXwJ08l",
        "colab": {
          "base_uri": "https://localhost:8080/",
          "height": 223
        },
        "outputId": "652297e2-b3f8-4b79-e3e9-c0529ba53569"
      },
      "source": [
        "# Visualize the learned weights for each class\n",
        "w = best_softmax.W[:-1,:] # strip out the bias\n",
        "w = w.reshape(32, 32, 3, 10)\n",
        "\n",
        "w_min, w_max = np.min(w), np.max(w)\n",
        "\n",
        "classes = ['plane', 'car', 'bird', 'cat', 'deer', 'dog', 'frog', 'horse', 'ship', 'truck']\n",
        "for i in range(10):\n",
        "    plt.subplot(2, 5, i + 1)\n",
        "    \n",
        "    # Rescale the weights to be between 0 and 255\n",
        "    wimg = 255.0 * (w[:, :, :, i].squeeze() - w_min) / (w_max - w_min)\n",
        "    plt.imshow(wimg.astype('uint8'))\n",
        "    plt.axis('off')\n",
        "    plt.title(classes[i])"
      ],
      "execution_count": null,
      "outputs": [
        {
          "output_type": "display_data",
          "data": {
            "image/png": "[encoded data removed]",
            "text/plain": [
              "<Figure size 432x288 with 10 Axes>"
            ]
          },
          "metadata": {
            "needs_background": "light"
          }
        }
      ]
    },
    {
      "cell_type": "markdown",
      "metadata": {
        "id": "7EFiDVPKejJy"
      },
      "source": [
        "*Many thanks to Stanford CS231n for permission to use their materials!*"
      ]
    }
  ]
}